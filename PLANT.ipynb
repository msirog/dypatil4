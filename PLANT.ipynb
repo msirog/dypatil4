{
 "cells": [
  {
   "cell_type": "code",
   "execution_count": 2,
   "id": "158b4fc7",
   "metadata": {},
   "outputs": [],
   "source": [
    "from tensorflow.keras.preprocessing.image import ImageDataGenerator, load_img, img_to_array"
   ]
  },
  {
   "cell_type": "code",
   "execution_count": 3,
   "id": "05dd89f0",
   "metadata": {},
   "outputs": [],
   "source": [
    "train_dir = r'D:\\Study\\BE\\Sem2\\DL\\Practicals\\Dataset\\Dataset\\New Plant Diseases Dataset(Augmented)\\New Plant Diseases Dataset(Augmented)\\train'\n",
    "val_dir = r'D:\\Study\\BE\\Sem2\\DL\\Practicals\\Dataset\\Dataset\\New Plant Diseases Dataset(Augmented)\\New Plant Diseases Dataset(Augmented)\\valid'\n"
   ]
  },
  {
   "cell_type": "code",
   "execution_count": 4,
   "id": "e20051da",
   "metadata": {},
   "outputs": [],
   "source": [
    "img_size = 224\n",
    "batch_size = 32"
   ]
  },
  {
   "cell_type": "code",
   "execution_count": 5,
   "id": "7f69456f",
   "metadata": {},
   "outputs": [
    {
     "name": "stdout",
     "output_type": "stream",
     "text": [
      "Found 600 images belonging to 3 classes.\n"
     ]
    }
   ],
   "source": [
    "train_datagen = ImageDataGenerator(rescale=1./255)\n",
    "train_generator = train_datagen.flow_from_directory(train_dir, target_size=(img_size, img_size), batch_size=batch_size, class_mode='categorical')"
   ]
  },
  {
   "cell_type": "code",
   "execution_count": 6,
   "id": "7b68c344",
   "metadata": {},
   "outputs": [
    {
     "name": "stdout",
     "output_type": "stream",
     "text": [
      "Found 600 images belonging to 3 classes.\n"
     ]
    }
   ],
   "source": [
    "val_datagen = ImageDataGenerator(rescale=1./255)\n",
    "val_generator = val_datagen.flow_from_directory(val_dir, target_size=(img_size, img_size), batch_size=batch_size, class_mode='categorical')\n"
   ]
  },
  {
   "cell_type": "code",
   "execution_count": 7,
   "id": "db37d682",
   "metadata": {},
   "outputs": [
    {
     "data": {
      "text/plain": [
       "['Tomato___Bacterial_spot', 'Tomato___Early_blight', 'Tomato___healthy']"
      ]
     },
     "execution_count": 7,
     "metadata": {},
     "output_type": "execute_result"
    }
   ],
   "source": [
    "list(train_generator.class_indices)"
   ]
  },
  {
   "cell_type": "code",
   "execution_count": 9,
   "id": "3f1075df",
   "metadata": {},
   "outputs": [],
   "source": [
    "from tensorflow.keras.models import Sequential\n",
    "from tensorflow.keras.layers import Conv2D, MaxPooling2D, Flatten, Dense, Dropout, BatchNormalization"
   ]
  },
  {
   "cell_type": "code",
   "execution_count": 10,
   "id": "f6924ebc",
   "metadata": {},
   "outputs": [
    {
     "name": "stdout",
     "output_type": "stream",
     "text": [
      "Model: \"sequential\"\n",
      "_________________________________________________________________\n",
      " Layer (type)                Output Shape              Param #   \n",
      "=================================================================\n",
      " conv2d (Conv2D)             (None, 222, 222, 32)      896       \n",
      "                                                                 \n",
      " batch_normalization (BatchN  (None, 222, 222, 32)     128       \n",
      " ormalization)                                                   \n",
      "                                                                 \n",
      " max_pooling2d (MaxPooling2D  (None, 111, 111, 32)     0         \n",
      " )                                                               \n",
      "                                                                 \n",
      " conv2d_1 (Conv2D)           (None, 109, 109, 64)      18496     \n",
      "                                                                 \n",
      " batch_normalization_1 (Batc  (None, 109, 109, 64)     256       \n",
      " hNormalization)                                                 \n",
      "                                                                 \n",
      " max_pooling2d_1 (MaxPooling  (None, 54, 54, 64)       0         \n",
      " 2D)                                                             \n",
      "                                                                 \n",
      " conv2d_2 (Conv2D)           (None, 52, 52, 64)        36928     \n",
      "                                                                 \n",
      " batch_normalization_2 (Batc  (None, 52, 52, 64)       256       \n",
      " hNormalization)                                                 \n",
      "                                                                 \n",
      " max_pooling2d_2 (MaxPooling  (None, 26, 26, 64)       0         \n",
      " 2D)                                                             \n",
      "                                                                 \n",
      " conv2d_3 (Conv2D)           (None, 24, 24, 128)       73856     \n",
      "                                                                 \n",
      " batch_normalization_3 (Batc  (None, 24, 24, 128)      512       \n",
      " hNormalization)                                                 \n",
      "                                                                 \n",
      " max_pooling2d_3 (MaxPooling  (None, 12, 12, 128)      0         \n",
      " 2D)                                                             \n",
      "                                                                 \n",
      " flatten (Flatten)           (None, 18432)             0         \n",
      "                                                                 \n",
      " dense (Dense)               (None, 128)               2359424   \n",
      "                                                                 \n",
      " dropout (Dropout)           (None, 128)               0         \n",
      "                                                                 \n",
      " dense_1 (Dense)             (None, 64)                8256      \n",
      "                                                                 \n",
      " dense_2 (Dense)             (None, 3)                 195       \n",
      "                                                                 \n",
      "=================================================================\n",
      "Total params: 2,499,203\n",
      "Trainable params: 2,498,627\n",
      "Non-trainable params: 576\n",
      "_________________________________________________________________\n"
     ]
    }
   ],
   "source": [
    "model = Sequential()\n",
    "model.add((Conv2D(32, (3,3), activation='relu', input_shape=(img_size, img_size, 3))))\n",
    "model.add(BatchNormalization())\n",
    "model.add((MaxPooling2D(2,2)))\n",
    "model.add((Conv2D(64, (3,3), activation='relu')))\n",
    "model.add(BatchNormalization())\n",
    "model.add((MaxPooling2D(2,2)))\n",
    "model.add((Conv2D(64, (3,3), activation='relu')))\n",
    "model.add(BatchNormalization())\n",
    "model.add((MaxPooling2D(2,2)))\n",
    "model.add((Conv2D(128, (3,3), activation='relu')))\n",
    "model.add(BatchNormalization())\n",
    "model.add((MaxPooling2D(2,2)))\n",
    "model.add((Flatten()))\n",
    "model.add((Dense(128, activation='relu')))\n",
    "model.add((Dropout(0.2)))\n",
    "model.add((Dense(64, activation='relu')))\n",
    "model.add((Dense(train_generator.num_classes, activation='softmax')))\n",
    "model.summary()\n"
   ]
  },
  {
   "cell_type": "code",
   "execution_count": 11,
   "id": "b8e0d8ad",
   "metadata": {},
   "outputs": [],
   "source": [
    "model.compile(optimizer='adam', loss='categorical_crossentropy', metrics=['accuracy'])\n"
   ]
  },
  {
   "cell_type": "code",
   "execution_count": 12,
   "id": "69441b5a",
   "metadata": {},
   "outputs": [
    {
     "name": "stdout",
     "output_type": "stream",
     "text": [
      "Epoch 1/50\n",
      "19/19 [==============================] - 67s 3s/step - loss: 1.2641 - accuracy: 0.7933 - val_loss: 3.8141 - val_accuracy: 0.3333\n",
      "Epoch 2/50\n",
      "19/19 [==============================] - 61s 3s/step - loss: 0.3011 - accuracy: 0.9383 - val_loss: 7.3613 - val_accuracy: 0.3333\n",
      "Epoch 3/50\n",
      "19/19 [==============================] - 58s 3s/step - loss: 0.3390 - accuracy: 0.9200 - val_loss: 5.7950 - val_accuracy: 0.4550\n",
      "Epoch 4/50\n",
      "19/19 [==============================] - 61s 3s/step - loss: 0.3322 - accuracy: 0.9367 - val_loss: 5.9442 - val_accuracy: 0.4017\n",
      "Epoch 5/50\n",
      "19/19 [==============================] - 60s 3s/step - loss: 0.4195 - accuracy: 0.9083 - val_loss: 17.2807 - val_accuracy: 0.3333\n",
      "Epoch 6/50\n",
      "19/19 [==============================] - 61s 3s/step - loss: 0.2125 - accuracy: 0.9650 - val_loss: 20.3010 - val_accuracy: 0.3333\n",
      "Epoch 7/50\n",
      "19/19 [==============================] - 61s 3s/step - loss: 0.2483 - accuracy: 0.9550 - val_loss: 7.3195 - val_accuracy: 0.6633\n",
      "Epoch 8/50\n",
      "19/19 [==============================] - 61s 3s/step - loss: 0.2824 - accuracy: 0.9533 - val_loss: 22.6504 - val_accuracy: 0.3783\n",
      "Epoch 9/50\n",
      "19/19 [==============================] - 61s 3s/step - loss: 0.1595 - accuracy: 0.9717 - val_loss: 17.8109 - val_accuracy: 0.3867\n",
      "Epoch 10/50\n",
      "19/19 [==============================] - 61s 3s/step - loss: 0.0912 - accuracy: 0.9767 - val_loss: 13.8412 - val_accuracy: 0.6550\n",
      "Epoch 11/50\n",
      "19/19 [==============================] - 62s 3s/step - loss: 0.0629 - accuracy: 0.9867 - val_loss: 16.7185 - val_accuracy: 0.4967\n",
      "Epoch 12/50\n",
      "19/19 [==============================] - 62s 3s/step - loss: 0.0335 - accuracy: 0.9883 - val_loss: 22.7870 - val_accuracy: 0.3417\n",
      "Epoch 13/50\n",
      "19/19 [==============================] - 61s 3s/step - loss: 0.0286 - accuracy: 0.9917 - val_loss: 19.3090 - val_accuracy: 0.4750\n",
      "Epoch 14/50\n",
      "19/19 [==============================] - 61s 3s/step - loss: 0.1097 - accuracy: 0.9750 - val_loss: 18.8427 - val_accuracy: 0.4567\n",
      "Epoch 15/50\n",
      "19/19 [==============================] - 60s 3s/step - loss: 0.0668 - accuracy: 0.9883 - val_loss: 19.1078 - val_accuracy: 0.4167\n",
      "Epoch 16/50\n",
      "19/19 [==============================] - 61s 3s/step - loss: 0.0674 - accuracy: 0.9800 - val_loss: 22.4507 - val_accuracy: 0.3883\n",
      "Epoch 17/50\n",
      "19/19 [==============================] - 61s 3s/step - loss: 0.1536 - accuracy: 0.9767 - val_loss: 10.3746 - val_accuracy: 0.5150\n",
      "Epoch 18/50\n",
      "19/19 [==============================] - 61s 3s/step - loss: 0.1977 - accuracy: 0.9700 - val_loss: 21.9413 - val_accuracy: 0.4583\n",
      "Epoch 19/50\n",
      "19/19 [==============================] - 60s 3s/step - loss: 0.2464 - accuracy: 0.9500 - val_loss: 16.7130 - val_accuracy: 0.5233\n",
      "Epoch 20/50\n",
      "19/19 [==============================] - 61s 3s/step - loss: 0.2740 - accuracy: 0.9633 - val_loss: 4.9673 - val_accuracy: 0.7217\n",
      "Epoch 21/50\n",
      "19/19 [==============================] - 60s 3s/step - loss: 0.1769 - accuracy: 0.9783 - val_loss: 7.7745 - val_accuracy: 0.6183\n",
      "Epoch 22/50\n",
      "19/19 [==============================] - 59s 3s/step - loss: 0.2345 - accuracy: 0.9750 - val_loss: 11.6108 - val_accuracy: 0.6333\n",
      "Epoch 23/50\n",
      "19/19 [==============================] - 59s 3s/step - loss: 0.1001 - accuracy: 0.9700 - val_loss: 8.1953 - val_accuracy: 0.6067\n",
      "Epoch 24/50\n",
      "19/19 [==============================] - 61s 3s/step - loss: 0.3077 - accuracy: 0.9717 - val_loss: 7.4065 - val_accuracy: 0.5883\n",
      "Epoch 25/50\n",
      "19/19 [==============================] - 62s 3s/step - loss: 0.1386 - accuracy: 0.9833 - val_loss: 12.6956 - val_accuracy: 0.4967\n",
      "Epoch 26/50\n",
      "19/19 [==============================] - 61s 3s/step - loss: 0.4853 - accuracy: 0.9383 - val_loss: 5.7112 - val_accuracy: 0.5250\n",
      "Epoch 27/50\n",
      "19/19 [==============================] - 61s 3s/step - loss: 0.2493 - accuracy: 0.9567 - val_loss: 5.2023 - val_accuracy: 0.7150\n",
      "Epoch 28/50\n",
      "19/19 [==============================] - 61s 3s/step - loss: 0.1410 - accuracy: 0.9750 - val_loss: 0.7855 - val_accuracy: 0.8883\n",
      "Epoch 29/50\n",
      "19/19 [==============================] - 86s 5s/step - loss: 0.1393 - accuracy: 0.9733 - val_loss: 0.8730 - val_accuracy: 0.8967\n",
      "Epoch 30/50\n",
      "19/19 [==============================] - 61s 3s/step - loss: 0.1605 - accuracy: 0.9733 - val_loss: 0.6652 - val_accuracy: 0.9083\n",
      "Epoch 31/50\n",
      "19/19 [==============================] - 134s 7s/step - loss: 0.1727 - accuracy: 0.9733 - val_loss: 5.2456 - val_accuracy: 0.6350\n",
      "Epoch 32/50\n",
      "19/19 [==============================] - 58s 3s/step - loss: 0.0461 - accuracy: 0.9867 - val_loss: 0.2945 - val_accuracy: 0.9550\n",
      "Epoch 33/50\n",
      "19/19 [==============================] - 59s 3s/step - loss: 0.0454 - accuracy: 0.9883 - val_loss: 1.1667 - val_accuracy: 0.8833\n",
      "Epoch 34/50\n",
      "19/19 [==============================] - 62s 3s/step - loss: 0.0175 - accuracy: 0.9983 - val_loss: 1.0305 - val_accuracy: 0.9083\n",
      "Epoch 35/50\n",
      "19/19 [==============================] - 59s 3s/step - loss: 0.0269 - accuracy: 0.9933 - val_loss: 6.9671 - val_accuracy: 0.6850\n",
      "Epoch 36/50\n",
      "19/19 [==============================] - 59s 3s/step - loss: 0.0199 - accuracy: 0.9967 - val_loss: 5.6539 - val_accuracy: 0.7083\n",
      "Epoch 37/50\n",
      "19/19 [==============================] - 60s 3s/step - loss: 0.0097 - accuracy: 0.9983 - val_loss: 2.0384 - val_accuracy: 0.8400\n",
      "Epoch 38/50\n",
      "19/19 [==============================] - 60s 3s/step - loss: 0.0031 - accuracy: 0.9983 - val_loss: 0.6168 - val_accuracy: 0.9333\n",
      "Epoch 39/50\n",
      "19/19 [==============================] - 61s 3s/step - loss: 0.0092 - accuracy: 0.9967 - val_loss: 0.5935 - val_accuracy: 0.9367\n",
      "Epoch 40/50\n",
      "19/19 [==============================] - 79s 4s/step - loss: 0.0016 - accuracy: 1.0000 - val_loss: 0.4413 - val_accuracy: 0.9450\n",
      "Epoch 41/50\n",
      "19/19 [==============================] - 93s 5s/step - loss: 0.0129 - accuracy: 0.9983 - val_loss: 0.4990 - val_accuracy: 0.9367\n",
      "Epoch 42/50\n",
      "19/19 [==============================] - 94s 5s/step - loss: 0.0033 - accuracy: 0.9983 - val_loss: 0.4019 - val_accuracy: 0.9550\n",
      "Epoch 43/50\n",
      "19/19 [==============================] - 93s 5s/step - loss: 0.0023 - accuracy: 1.0000 - val_loss: 0.4388 - val_accuracy: 0.9517\n",
      "Epoch 44/50\n",
      "19/19 [==============================] - 94s 5s/step - loss: 0.0024 - accuracy: 0.9983 - val_loss: 0.5623 - val_accuracy: 0.9383\n",
      "Epoch 45/50\n",
      "19/19 [==============================] - 66s 3s/step - loss: 0.0019 - accuracy: 1.0000 - val_loss: 0.4182 - val_accuracy: 0.9500\n",
      "Epoch 46/50\n",
      "19/19 [==============================] - 60s 3s/step - loss: 4.6906e-04 - accuracy: 1.0000 - val_loss: 0.3951 - val_accuracy: 0.9617\n",
      "Epoch 47/50\n",
      "19/19 [==============================] - 60s 3s/step - loss: 0.1161 - accuracy: 0.9883 - val_loss: 0.3147 - val_accuracy: 0.9483\n",
      "Epoch 48/50\n",
      "19/19 [==============================] - 58s 3s/step - loss: 0.0683 - accuracy: 0.9900 - val_loss: 2.0230 - val_accuracy: 0.8250\n",
      "Epoch 49/50\n",
      "19/19 [==============================] - 60s 3s/step - loss: 0.0038 - accuracy: 0.9983 - val_loss: 8.4491 - val_accuracy: 0.5967\n",
      "Epoch 50/50\n",
      "19/19 [==============================] - 60s 3s/step - loss: 0.0285 - accuracy: 0.9917 - val_loss: 0.8514 - val_accuracy: 0.9183\n"
     ]
    },
    {
     "data": {
      "text/plain": [
       "<keras.callbacks.History at 0x1eddf19abb0>"
      ]
     },
     "execution_count": 12,
     "metadata": {},
     "output_type": "execute_result"
    }
   ],
   "source": [
    "model.fit(train_generator, epochs=50, validation_data=val_generator)"
   ]
  },
  {
   "cell_type": "code",
   "execution_count": 13,
   "id": "1a7b07c4",
   "metadata": {},
   "outputs": [
    {
     "name": "stdout",
     "output_type": "stream",
     "text": [
      "19/19 [==============================] - 13s 686ms/step - loss: 0.8514 - accuracy: 0.9183\n",
      "Loss : 0.8514078259468079\n",
      "Accuracy (Test Data) : 91.8333351612091\n"
     ]
    }
   ],
   "source": [
    "loss, accuracy = model.evaluate(val_generator)\n",
    "print(\"Loss :\",loss)\n",
    "print(\"Accuracy (Test Data) :\",accuracy*100)"
   ]
  },
  {
   "cell_type": "code",
   "execution_count": 14,
   "id": "5a9bb8c0",
   "metadata": {},
   "outputs": [],
   "source": [
    "import numpy as np\n",
    "img_path =r\"D:\\Study\\BE\\Sem2\\DL\\Practicals\\Dataset\\Dataset\\New Plant Diseases Dataset(Augmented)\\New Plant Diseases Dataset(Augmented)\\valid\\Tomato___Early_blight\\0f7a2408-9c26-4ff9-bee5-2bfcd91a11f7___RS_Erly.B 9440.JPG\"\n",
    "img = load_img(img_path, target_size=(224, 224))\n",
    "img_array = img_to_array(img)\n",
    "img_array = np.expand_dims(img_array, axis=0)\n",
    "img_array /= 255."
   ]
  },
  {
   "cell_type": "code",
   "execution_count": 15,
   "id": "7ff04ac0",
   "metadata": {},
   "outputs": [
    {
     "name": "stdout",
     "output_type": "stream",
     "text": [
      "1/1 [==============================] - 1s 822ms/step\n"
     ]
    }
   ],
   "source": [
    "prediction = model.predict(img_array)\n",
    "class_names=['Tomato___Bacterial_spot', 'Tomato___Early_blight', 'Tomato___healthy']\n"
   ]
  },
  {
   "cell_type": "code",
   "execution_count": 16,
   "id": "768c9d19",
   "metadata": {},
   "outputs": [
    {
     "name": "stdout",
     "output_type": "stream",
     "text": [
      "[[9.7741422e-13 1.0000000e+00 1.4535675e-20]]\n",
      "1\n",
      "Predicted class: Tomato___Early_blight\n"
     ]
    }
   ],
   "source": [
    "predicted_class = np.argmax(prediction)\n",
    "print(prediction)\n",
    "print(predicted_class)\n",
    "print('Predicted class:', class_names[predicted_class])"
   ]
  },
  {
   "cell_type": "code",
   "execution_count": null,
   "id": "5a885733",
   "metadata": {},
   "outputs": [],
   "source": []
  }
 ],
 "metadata": {
  "kernelspec": {
   "display_name": "Python 3 (ipykernel)",
   "language": "python",
   "name": "python3"
  },
  "language_info": {
   "codemirror_mode": {
    "name": "ipython",
    "version": 3
   },
   "file_extension": ".py",
   "mimetype": "text/x-python",
   "name": "python",
   "nbconvert_exporter": "python",
   "pygments_lexer": "ipython3",
   "version": "3.9.13"
  }
 },
 "nbformat": 4,
 "nbformat_minor": 5
}
