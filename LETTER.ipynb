{
 "cells": [
  {
   "cell_type": "code",
   "execution_count": 1,
   "metadata": {},
   "outputs": [],
   "source": [
    "import pandas as pd\n",
    "import numpy as np\n",
    "from sklearn.model_selection import train_test_split"
   ]
  },
  {
   "cell_type": "code",
   "execution_count": 2,
   "metadata": {},
   "outputs": [],
   "source": [
    "#url='https://archive.ics.uci.edu/ml/machine-learning-databases/letter-recognition/letter-recognition.data'"
   ]
  },
  {
   "cell_type": "code",
   "execution_count": 3,
   "metadata": {},
   "outputs": [],
   "source": [
    "columns = [\"lettr\", \"x-box\", \"y-box\", \"width\", \"height\", \"onpix\", \"x-bar\",\"y-bar\", \"x2bar\", \"y2bar\", \"xybar\", \"x2ybr\", \"xy2br\", \"x-ege\", \"xegvy\",\"y-ege\", \"yegvx\"]"
   ]
  },
  {
   "cell_type": "code",
   "execution_count": 5,
   "metadata": {},
   "outputs": [],
   "source": [
    "#df = pd.read_csv(url, names=columns)\n",
    "df = pd.read_csv(r'C:\\Users\\HP\\Desktop\\DL_Practicals\\Dataset\\letter-recognition.data', names=columns)"
   ]
  },
  {
   "cell_type": "code",
   "execution_count": 6,
   "metadata": {},
   "outputs": [
    {
     "data": {
      "text/html": [
       "<div>\n",
       "<style scoped>\n",
       "    .dataframe tbody tr th:only-of-type {\n",
       "        vertical-align: middle;\n",
       "    }\n",
       "\n",
       "    .dataframe tbody tr th {\n",
       "        vertical-align: top;\n",
       "    }\n",
       "\n",
       "    .dataframe thead th {\n",
       "        text-align: right;\n",
       "    }\n",
       "</style>\n",
       "<table border=\"1\" class=\"dataframe\">\n",
       "  <thead>\n",
       "    <tr style=\"text-align: right;\">\n",
       "      <th></th>\n",
       "      <th>lettr</th>\n",
       "      <th>x-box</th>\n",
       "      <th>y-box</th>\n",
       "      <th>width</th>\n",
       "      <th>height</th>\n",
       "      <th>onpix</th>\n",
       "      <th>x-bar</th>\n",
       "      <th>y-bar</th>\n",
       "      <th>x2bar</th>\n",
       "      <th>y2bar</th>\n",
       "      <th>xybar</th>\n",
       "      <th>x2ybr</th>\n",
       "      <th>xy2br</th>\n",
       "      <th>x-ege</th>\n",
       "      <th>xegvy</th>\n",
       "      <th>y-ege</th>\n",
       "      <th>yegvx</th>\n",
       "    </tr>\n",
       "  </thead>\n",
       "  <tbody>\n",
       "    <tr>\n",
       "      <th>0</th>\n",
       "      <td>T</td>\n",
       "      <td>2</td>\n",
       "      <td>8</td>\n",
       "      <td>3</td>\n",
       "      <td>5</td>\n",
       "      <td>1</td>\n",
       "      <td>8</td>\n",
       "      <td>13</td>\n",
       "      <td>0</td>\n",
       "      <td>6</td>\n",
       "      <td>6</td>\n",
       "      <td>10</td>\n",
       "      <td>8</td>\n",
       "      <td>0</td>\n",
       "      <td>8</td>\n",
       "      <td>0</td>\n",
       "      <td>8</td>\n",
       "    </tr>\n",
       "    <tr>\n",
       "      <th>1</th>\n",
       "      <td>I</td>\n",
       "      <td>5</td>\n",
       "      <td>12</td>\n",
       "      <td>3</td>\n",
       "      <td>7</td>\n",
       "      <td>2</td>\n",
       "      <td>10</td>\n",
       "      <td>5</td>\n",
       "      <td>5</td>\n",
       "      <td>4</td>\n",
       "      <td>13</td>\n",
       "      <td>3</td>\n",
       "      <td>9</td>\n",
       "      <td>2</td>\n",
       "      <td>8</td>\n",
       "      <td>4</td>\n",
       "      <td>10</td>\n",
       "    </tr>\n",
       "    <tr>\n",
       "      <th>2</th>\n",
       "      <td>D</td>\n",
       "      <td>4</td>\n",
       "      <td>11</td>\n",
       "      <td>6</td>\n",
       "      <td>8</td>\n",
       "      <td>6</td>\n",
       "      <td>10</td>\n",
       "      <td>6</td>\n",
       "      <td>2</td>\n",
       "      <td>6</td>\n",
       "      <td>10</td>\n",
       "      <td>3</td>\n",
       "      <td>7</td>\n",
       "      <td>3</td>\n",
       "      <td>7</td>\n",
       "      <td>3</td>\n",
       "      <td>9</td>\n",
       "    </tr>\n",
       "    <tr>\n",
       "      <th>3</th>\n",
       "      <td>N</td>\n",
       "      <td>7</td>\n",
       "      <td>11</td>\n",
       "      <td>6</td>\n",
       "      <td>6</td>\n",
       "      <td>3</td>\n",
       "      <td>5</td>\n",
       "      <td>9</td>\n",
       "      <td>4</td>\n",
       "      <td>6</td>\n",
       "      <td>4</td>\n",
       "      <td>4</td>\n",
       "      <td>10</td>\n",
       "      <td>6</td>\n",
       "      <td>10</td>\n",
       "      <td>2</td>\n",
       "      <td>8</td>\n",
       "    </tr>\n",
       "    <tr>\n",
       "      <th>4</th>\n",
       "      <td>G</td>\n",
       "      <td>2</td>\n",
       "      <td>1</td>\n",
       "      <td>3</td>\n",
       "      <td>1</td>\n",
       "      <td>1</td>\n",
       "      <td>8</td>\n",
       "      <td>6</td>\n",
       "      <td>6</td>\n",
       "      <td>6</td>\n",
       "      <td>6</td>\n",
       "      <td>5</td>\n",
       "      <td>9</td>\n",
       "      <td>1</td>\n",
       "      <td>7</td>\n",
       "      <td>5</td>\n",
       "      <td>10</td>\n",
       "    </tr>\n",
       "  </tbody>\n",
       "</table>\n",
       "</div>"
      ],
      "text/plain": [
       "  lettr  x-box  y-box  width  height  onpix  x-bar  y-bar  x2bar  y2bar  \\\n",
       "0     T      2      8      3       5      1      8     13      0      6   \n",
       "1     I      5     12      3       7      2     10      5      5      4   \n",
       "2     D      4     11      6       8      6     10      6      2      6   \n",
       "3     N      7     11      6       6      3      5      9      4      6   \n",
       "4     G      2      1      3       1      1      8      6      6      6   \n",
       "\n",
       "   xybar  x2ybr  xy2br  x-ege  xegvy  y-ege  yegvx  \n",
       "0      6     10      8      0      8      0      8  \n",
       "1     13      3      9      2      8      4     10  \n",
       "2     10      3      7      3      7      3      9  \n",
       "3      4      4     10      6     10      2      8  \n",
       "4      6      5      9      1      7      5     10  "
      ]
     },
     "execution_count": 6,
     "metadata": {},
     "output_type": "execute_result"
    }
   ],
   "source": [
    "df.head()"
   ]
  },
  {
   "cell_type": "code",
   "execution_count": 7,
   "metadata": {},
   "outputs": [],
   "source": [
    "x = df.drop(\"lettr\", axis=1).values\n",
    "y = df[\"lettr\"].values"
   ]
  },
  {
   "cell_type": "code",
   "execution_count": 8,
   "metadata": {},
   "outputs": [
    {
     "data": {
      "text/plain": [
       "(20000, 16)"
      ]
     },
     "execution_count": 8,
     "metadata": {},
     "output_type": "execute_result"
    }
   ],
   "source": [
    "x.shape"
   ]
  },
  {
   "cell_type": "code",
   "execution_count": 9,
   "metadata": {},
   "outputs": [
    {
     "data": {
      "text/plain": [
       "(20000,)"
      ]
     },
     "execution_count": 9,
     "metadata": {},
     "output_type": "execute_result"
    }
   ],
   "source": [
    "y.shape"
   ]
  },
  {
   "cell_type": "code",
   "execution_count": 10,
   "metadata": {},
   "outputs": [
    {
     "data": {
      "text/plain": [
       "array(['A', 'B', 'C', 'D', 'E', 'F', 'G', 'H', 'I', 'J', 'K', 'L', 'M',\n",
       "       'N', 'O', 'P', 'Q', 'R', 'S', 'T', 'U', 'V', 'W', 'X', 'Y', 'Z'],\n",
       "      dtype=object)"
      ]
     },
     "execution_count": 10,
     "metadata": {},
     "output_type": "execute_result"
    }
   ],
   "source": [
    "np.unique(y)"
   ]
  },
  {
   "cell_type": "code",
   "execution_count": 11,
   "metadata": {},
   "outputs": [],
   "source": [
    "x_train, x_test, y_train, y_test = train_test_split(x, y, test_size=0.2)"
   ]
  },
  {
   "cell_type": "code",
   "execution_count": 12,
   "metadata": {},
   "outputs": [
    {
     "name": "stdout",
     "output_type": "stream",
     "text": [
      "Train Shape : (16000, 16)\n",
      "Test Shape : (4000, 16)\n",
      "y_train shape : (16000,)\n",
      "y_test shape : (4000,)\n"
     ]
    }
   ],
   "source": [
    "def shape():\n",
    "    print(\"Train Shape :\",x_train.shape)\n",
    "    print(\"Test Shape :\",x_test.shape)\n",
    "    print(\"y_train shape :\",y_train.shape)\n",
    "    print(\"y_test shape :\",y_test.shape)\n",
    "shape()"
   ]
  },
  {
   "cell_type": "code",
   "execution_count": 13,
   "metadata": {},
   "outputs": [
    {
     "data": {
      "text/plain": [
       "array([ 3,  7,  3,  5,  4,  6,  6,  8,  5,  6,  7,  7,  2,  9,  7, 10],\n",
       "      dtype=int64)"
      ]
     },
     "execution_count": 13,
     "metadata": {},
     "output_type": "execute_result"
    }
   ],
   "source": [
    "x_train[0]"
   ]
  },
  {
   "cell_type": "code",
   "execution_count": 14,
   "metadata": {},
   "outputs": [
    {
     "data": {
      "text/plain": [
       "'B'"
      ]
     },
     "execution_count": 14,
     "metadata": {},
     "output_type": "execute_result"
    }
   ],
   "source": [
    "y_train[0]"
   ]
  },
  {
   "cell_type": "code",
   "execution_count": 15,
   "metadata": {},
   "outputs": [],
   "source": [
    "class_names=['A', 'B', 'C', 'D', 'E', 'F', 'G', 'H', 'I', 'J', 'K', 'L', 'M','N', 'O', 'P', 'Q', 'R', 'S', 'T', 'U', 'V', 'W', 'X', 'Y', 'Z']"
   ]
  },
  {
   "cell_type": "code",
   "execution_count": 16,
   "metadata": {},
   "outputs": [
    {
     "data": {
      "text/plain": [
       "array([5, 9, 7, 7, 6, 7, 7, 5, 6, 7, 6, 8, 7, 7, 3, 7], dtype=int64)"
      ]
     },
     "execution_count": 16,
     "metadata": {},
     "output_type": "execute_result"
    }
   ],
   "source": [
    "x_test[10]"
   ]
  },
  {
   "cell_type": "code",
   "execution_count": 17,
   "metadata": {},
   "outputs": [
    {
     "data": {
      "text/plain": [
       "'D'"
      ]
     },
     "execution_count": 17,
     "metadata": {},
     "output_type": "execute_result"
    }
   ],
   "source": [
    "y_test[10]"
   ]
  },
  {
   "cell_type": "code",
   "execution_count": 18,
   "metadata": {},
   "outputs": [],
   "source": [
    "x_train = x_train/255\n",
    "x_test = x_test/255"
   ]
  },
  {
   "cell_type": "code",
   "execution_count": 19,
   "metadata": {},
   "outputs": [],
   "source": [
    "from sklearn.preprocessing import LabelEncoder"
   ]
  },
  {
   "cell_type": "code",
   "execution_count": 20,
   "metadata": {},
   "outputs": [],
   "source": [
    "encoder = LabelEncoder()\n",
    "y_train = encoder.fit_transform(y_train)\n",
    "y_test = encoder.fit_transform(y_test)"
   ]
  },
  {
   "cell_type": "code",
   "execution_count": 21,
   "metadata": {},
   "outputs": [],
   "source": [
    "from tensorflow.keras.models import Sequential\n",
    "from tensorflow.keras.layers import Dense, Dropout"
   ]
  },
  {
   "cell_type": "code",
   "execution_count": 22,
   "metadata": {},
   "outputs": [
    {
     "name": "stdout",
     "output_type": "stream",
     "text": [
      "Model: \"sequential\"\n",
      "_________________________________________________________________\n",
      " Layer (type)                Output Shape              Param #   \n",
      "=================================================================\n",
      " dense (Dense)               (None, 512)               8704      \n",
      "                                                                 \n",
      " dropout (Dropout)           (None, 512)               0         \n",
      "                                                                 \n",
      " dense_1 (Dense)             (None, 256)               131328    \n",
      "                                                                 \n",
      " dropout_1 (Dropout)         (None, 256)               0         \n",
      "                                                                 \n",
      " dense_2 (Dense)             (None, 26)                6682      \n",
      "                                                                 \n",
      "=================================================================\n",
      "Total params: 146,714\n",
      "Trainable params: 146,714\n",
      "Non-trainable params: 0\n",
      "_________________________________________________________________\n"
     ]
    }
   ],
   "source": [
    "model=Sequential()\n",
    "model.add(Dense(512, activation='relu', input_shape=(16,)))\n",
    "model.add(Dropout(0.2))\n",
    "model.add(Dense(256, activation='relu'))\n",
    "model.add(Dropout(0.2))\n",
    "model.add(Dense(26, activation='softmax'))\n",
    "model.compile(optimizer='adam', loss='sparse_categorical_crossentropy',metrics=['accuracy'])\n",
    "model.summary()"
   ]
  },
  {
   "cell_type": "code",
   "execution_count": 23,
   "metadata": {},
   "outputs": [
    {
     "name": "stdout",
     "output_type": "stream",
     "text": [
      "Epoch 1/50\n",
      "125/125 [==============================] - 3s 13ms/step - loss: 3.1361 - accuracy: 0.1356 - val_loss: 2.7946 - val_accuracy: 0.2758\n",
      "Epoch 2/50\n",
      "125/125 [==============================] - 1s 10ms/step - loss: 2.3715 - accuracy: 0.3155 - val_loss: 2.0517 - val_accuracy: 0.4178\n",
      "Epoch 3/50\n",
      "125/125 [==============================] - 1s 10ms/step - loss: 1.9643 - accuracy: 0.4059 - val_loss: 1.7862 - val_accuracy: 0.4958\n",
      "Epoch 4/50\n",
      "125/125 [==============================] - 1s 10ms/step - loss: 1.7545 - accuracy: 0.4638 - val_loss: 1.6269 - val_accuracy: 0.5397\n",
      "Epoch 5/50\n",
      "125/125 [==============================] - 1s 10ms/step - loss: 1.6158 - accuracy: 0.5099 - val_loss: 1.5345 - val_accuracy: 0.5573\n",
      "Epoch 6/50\n",
      "125/125 [==============================] - 1s 10ms/step - loss: 1.5248 - accuracy: 0.5409 - val_loss: 1.4377 - val_accuracy: 0.5798\n",
      "Epoch 7/50\n",
      "125/125 [==============================] - 1s 10ms/step - loss: 1.4558 - accuracy: 0.5631 - val_loss: 1.3913 - val_accuracy: 0.5972\n",
      "Epoch 8/50\n",
      "125/125 [==============================] - 1s 10ms/step - loss: 1.4037 - accuracy: 0.5804 - val_loss: 1.3222 - val_accuracy: 0.6295\n",
      "Epoch 9/50\n",
      "125/125 [==============================] - 1s 10ms/step - loss: 1.3593 - accuracy: 0.5961 - val_loss: 1.2813 - val_accuracy: 0.6338\n",
      "Epoch 10/50\n",
      "125/125 [==============================] - 1s 10ms/step - loss: 1.3039 - accuracy: 0.6160 - val_loss: 1.2331 - val_accuracy: 0.6470\n",
      "Epoch 11/50\n",
      "125/125 [==============================] - 1s 10ms/step - loss: 1.2622 - accuracy: 0.6294 - val_loss: 1.1905 - val_accuracy: 0.6560\n",
      "Epoch 12/50\n",
      "125/125 [==============================] - 1s 10ms/step - loss: 1.2198 - accuracy: 0.6377 - val_loss: 1.1410 - val_accuracy: 0.6727\n",
      "Epoch 13/50\n",
      "125/125 [==============================] - 1s 10ms/step - loss: 1.1687 - accuracy: 0.6566 - val_loss: 1.1046 - val_accuracy: 0.6855\n",
      "Epoch 14/50\n",
      "125/125 [==============================] - 1s 10ms/step - loss: 1.1266 - accuracy: 0.6667 - val_loss: 1.0639 - val_accuracy: 0.6927\n",
      "Epoch 15/50\n",
      "125/125 [==============================] - 1s 10ms/step - loss: 1.0870 - accuracy: 0.6782 - val_loss: 1.0277 - val_accuracy: 0.7005\n",
      "Epoch 16/50\n",
      "125/125 [==============================] - 1s 10ms/step - loss: 1.0538 - accuracy: 0.6876 - val_loss: 0.9929 - val_accuracy: 0.7135\n",
      "Epoch 17/50\n",
      "125/125 [==============================] - 1s 10ms/step - loss: 1.0190 - accuracy: 0.6975 - val_loss: 0.9538 - val_accuracy: 0.7250\n",
      "Epoch 18/50\n",
      "125/125 [==============================] - 1s 10ms/step - loss: 0.9831 - accuracy: 0.7025 - val_loss: 0.9216 - val_accuracy: 0.7368\n",
      "Epoch 19/50\n",
      "125/125 [==============================] - 1s 10ms/step - loss: 0.9561 - accuracy: 0.7128 - val_loss: 0.9082 - val_accuracy: 0.7303\n",
      "Epoch 20/50\n",
      "125/125 [==============================] - 1s 10ms/step - loss: 0.9361 - accuracy: 0.7219 - val_loss: 0.8628 - val_accuracy: 0.7513\n",
      "Epoch 21/50\n",
      "125/125 [==============================] - 1s 10ms/step - loss: 0.9043 - accuracy: 0.7294 - val_loss: 0.8425 - val_accuracy: 0.7523\n",
      "Epoch 22/50\n",
      "125/125 [==============================] - 1s 10ms/step - loss: 0.8819 - accuracy: 0.7343 - val_loss: 0.8259 - val_accuracy: 0.7540\n",
      "Epoch 23/50\n",
      "125/125 [==============================] - 1s 10ms/step - loss: 0.8665 - accuracy: 0.7396 - val_loss: 0.8031 - val_accuracy: 0.7642\n",
      "Epoch 24/50\n",
      "125/125 [==============================] - 1s 10ms/step - loss: 0.8396 - accuracy: 0.7465 - val_loss: 0.7899 - val_accuracy: 0.7645\n",
      "Epoch 25/50\n",
      "125/125 [==============================] - 1s 10ms/step - loss: 0.8286 - accuracy: 0.7509 - val_loss: 0.7633 - val_accuracy: 0.7682\n",
      "Epoch 26/50\n",
      "125/125 [==============================] - 1s 10ms/step - loss: 0.8080 - accuracy: 0.7550 - val_loss: 0.7569 - val_accuracy: 0.7703\n",
      "Epoch 27/50\n",
      "125/125 [==============================] - 1s 10ms/step - loss: 0.7881 - accuracy: 0.7577 - val_loss: 0.7258 - val_accuracy: 0.7812\n",
      "Epoch 28/50\n",
      "125/125 [==============================] - 1s 10ms/step - loss: 0.7708 - accuracy: 0.7620 - val_loss: 0.7318 - val_accuracy: 0.7790\n",
      "Epoch 29/50\n",
      "125/125 [==============================] - 1s 10ms/step - loss: 0.7542 - accuracy: 0.7691 - val_loss: 0.6957 - val_accuracy: 0.7828\n",
      "Epoch 30/50\n",
      "125/125 [==============================] - 1s 10ms/step - loss: 0.7436 - accuracy: 0.7709 - val_loss: 0.6801 - val_accuracy: 0.7908\n",
      "Epoch 31/50\n",
      "125/125 [==============================] - 1s 10ms/step - loss: 0.7236 - accuracy: 0.7769 - val_loss: 0.6670 - val_accuracy: 0.7970\n",
      "Epoch 32/50\n",
      "125/125 [==============================] - 1s 10ms/step - loss: 0.7200 - accuracy: 0.7797 - val_loss: 0.6608 - val_accuracy: 0.7995\n",
      "Epoch 33/50\n",
      "125/125 [==============================] - 1s 10ms/step - loss: 0.7002 - accuracy: 0.7854 - val_loss: 0.6426 - val_accuracy: 0.8045\n",
      "Epoch 34/50\n",
      "125/125 [==============================] - 1s 10ms/step - loss: 0.6894 - accuracy: 0.7888 - val_loss: 0.6230 - val_accuracy: 0.8100\n",
      "Epoch 35/50\n",
      "125/125 [==============================] - 1s 10ms/step - loss: 0.6733 - accuracy: 0.7936 - val_loss: 0.6192 - val_accuracy: 0.8130\n",
      "Epoch 36/50\n",
      "125/125 [==============================] - 1s 10ms/step - loss: 0.6708 - accuracy: 0.7962 - val_loss: 0.6134 - val_accuracy: 0.8133\n",
      "Epoch 37/50\n",
      "125/125 [==============================] - 1s 10ms/step - loss: 0.6526 - accuracy: 0.7988 - val_loss: 0.5993 - val_accuracy: 0.8158\n",
      "Epoch 38/50\n",
      "125/125 [==============================] - 1s 10ms/step - loss: 0.6404 - accuracy: 0.8001 - val_loss: 0.5932 - val_accuracy: 0.8183\n",
      "Epoch 39/50\n",
      "125/125 [==============================] - 1s 10ms/step - loss: 0.6332 - accuracy: 0.8071 - val_loss: 0.5768 - val_accuracy: 0.8280\n",
      "Epoch 40/50\n",
      "125/125 [==============================] - 1s 11ms/step - loss: 0.6240 - accuracy: 0.8066 - val_loss: 0.5836 - val_accuracy: 0.8138\n",
      "Epoch 41/50\n",
      "125/125 [==============================] - 1s 10ms/step - loss: 0.6161 - accuracy: 0.8079 - val_loss: 0.5449 - val_accuracy: 0.8315\n",
      "Epoch 42/50\n",
      "125/125 [==============================] - 1s 10ms/step - loss: 0.6035 - accuracy: 0.8132 - val_loss: 0.5378 - val_accuracy: 0.8375\n",
      "Epoch 43/50\n",
      "125/125 [==============================] - 1s 11ms/step - loss: 0.5919 - accuracy: 0.8167 - val_loss: 0.5400 - val_accuracy: 0.8375\n",
      "Epoch 44/50\n",
      "125/125 [==============================] - 1s 11ms/step - loss: 0.5824 - accuracy: 0.8229 - val_loss: 0.5319 - val_accuracy: 0.8403\n",
      "Epoch 45/50\n",
      "125/125 [==============================] - 1s 11ms/step - loss: 0.5747 - accuracy: 0.8195 - val_loss: 0.5136 - val_accuracy: 0.8410\n",
      "Epoch 46/50\n",
      "125/125 [==============================] - 1s 10ms/step - loss: 0.5607 - accuracy: 0.8277 - val_loss: 0.4923 - val_accuracy: 0.8505\n",
      "Epoch 47/50\n",
      "125/125 [==============================] - 1s 11ms/step - loss: 0.5577 - accuracy: 0.8254 - val_loss: 0.4924 - val_accuracy: 0.8560\n",
      "Epoch 48/50\n",
      "125/125 [==============================] - 1s 11ms/step - loss: 0.5508 - accuracy: 0.8291 - val_loss: 0.5018 - val_accuracy: 0.8432\n",
      "Epoch 49/50\n",
      "125/125 [==============================] - 1s 11ms/step - loss: 0.5368 - accuracy: 0.8341 - val_loss: 0.4693 - val_accuracy: 0.8600\n",
      "Epoch 50/50\n",
      "125/125 [==============================] - 1s 10ms/step - loss: 0.5351 - accuracy: 0.8345 - val_loss: 0.4723 - val_accuracy: 0.8565\n"
     ]
    },
    {
     "data": {
      "text/plain": [
       "<keras.callbacks.History at 0x27c6c713d90>"
      ]
     },
     "execution_count": 23,
     "metadata": {},
     "output_type": "execute_result"
    }
   ],
   "source": [
    "model.fit(x_train, y_train, epochs=50, batch_size=128, verbose=1,validation_data=(x_test, y_test))"
   ]
  },
  {
   "cell_type": "code",
   "execution_count": 24,
   "metadata": {},
   "outputs": [
    {
     "name": "stdout",
     "output_type": "stream",
     "text": [
      "125/125 [==============================] - 1s 3ms/step\n"
     ]
    }
   ],
   "source": [
    "predictions = model.predict(x_test)"
   ]
  },
  {
   "cell_type": "code",
   "execution_count": 25,
   "metadata": {},
   "outputs": [
    {
     "name": "stdout",
     "output_type": "stream",
     "text": [
      "[1.43895159e-03 1.39372290e-07 2.53201509e-03 8.46373942e-03\n",
      " 9.74259024e-07 5.30201669e-06 1.96776105e-04 1.33925393e-01\n",
      " 6.52762679e-08 2.16311200e-05 2.91589811e-03 8.22882634e-04\n",
      " 5.19216537e-01 1.32141486e-01 1.69771761e-02 8.81996414e-07\n",
      " 1.16637915e-04 7.06976978e-04 5.80225731e-07 6.39239792e-04\n",
      " 1.79542467e-01 4.58882168e-05 2.59875262e-04 2.82995552e-05\n",
      " 1.85022543e-07 4.60386000e-11]\n",
      "Actual label : 3\n",
      "Predicted label : 12\n",
      "Class (A-Z) : M\n"
     ]
    }
   ],
   "source": [
    "index=10\n",
    "print(predictions[index])\n",
    "final_value=np.argmax(predictions[index])\n",
    "print(\"Actual label :\",y_test[index])\n",
    "print(\"Predicted label :\",final_value)\n",
    "print(\"Class (A-Z) :\",class_names[final_value])"
   ]
  },
  {
   "cell_type": "code",
   "execution_count": 26,
   "metadata": {},
   "outputs": [
    {
     "name": "stdout",
     "output_type": "stream",
     "text": [
      "125/125 [==============================] - 1s 4ms/step - loss: 0.4723 - accuracy: 0.8565\n",
      "Loss : 0.4722890555858612\n",
      "Accuracy (Test Data) : 85.65000295639038\n"
     ]
    }
   ],
   "source": [
    "loss, accuracy = model.evaluate(x_test, y_test)\n",
    "print(\"Loss :\",loss)\n",
    "print(\"Accuracy (Test Data) :\",accuracy*100)"
   ]
  },
  {
   "cell_type": "code",
   "execution_count": null,
   "metadata": {},
   "outputs": [],
   "source": []
  }
 ],
 "metadata": {
  "kernelspec": {
   "display_name": "Python 3",
   "language": "python",
   "name": "python3"
  },
  "language_info": {
   "codemirror_mode": {
    "name": "ipython",
    "version": 3
   },
   "file_extension": ".py",
   "mimetype": "text/x-python",
   "name": "python",
   "nbconvert_exporter": "python",
   "pygments_lexer": "ipython3",
   "version": "3.8.5"
  }
 },
 "nbformat": 4,
 "nbformat_minor": 4
}
