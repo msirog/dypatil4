{
 "cells": [
  {
   "cell_type": "code",
   "execution_count": 1,
   "metadata": {},
   "outputs": [],
   "source": [
    "import pandas as pd\n",
    "import numpy as np"
   ]
  },
  {
   "cell_type": "code",
   "execution_count": 3,
   "metadata": {},
   "outputs": [],
   "source": [
    "train_df = pd.read_csv(r'C:\\Users\\HP\\Desktop\\DL_Practicals\\Dataset\\Google_Stock_Price_Train.csv') #Path where the CSV file is stored."
   ]
  },
  {
   "cell_type": "code",
   "execution_count": 4,
   "metadata": {},
   "outputs": [
    {
     "data": {
      "text/html": [
       "<div>\n",
       "<style scoped>\n",
       "    .dataframe tbody tr th:only-of-type {\n",
       "        vertical-align: middle;\n",
       "    }\n",
       "\n",
       "    .dataframe tbody tr th {\n",
       "        vertical-align: top;\n",
       "    }\n",
       "\n",
       "    .dataframe thead th {\n",
       "        text-align: right;\n",
       "    }\n",
       "</style>\n",
       "<table border=\"1\" class=\"dataframe\">\n",
       "  <thead>\n",
       "    <tr style=\"text-align: right;\">\n",
       "      <th></th>\n",
       "      <th>Date</th>\n",
       "      <th>Open</th>\n",
       "      <th>High</th>\n",
       "      <th>Low</th>\n",
       "      <th>Close</th>\n",
       "      <th>Volume</th>\n",
       "    </tr>\n",
       "  </thead>\n",
       "  <tbody>\n",
       "    <tr>\n",
       "      <th>0</th>\n",
       "      <td>1/3/2012</td>\n",
       "      <td>325.25</td>\n",
       "      <td>332.83</td>\n",
       "      <td>324.97</td>\n",
       "      <td>663.59</td>\n",
       "      <td>7,380,500</td>\n",
       "    </tr>\n",
       "    <tr>\n",
       "      <th>1</th>\n",
       "      <td>1/4/2012</td>\n",
       "      <td>331.27</td>\n",
       "      <td>333.87</td>\n",
       "      <td>329.08</td>\n",
       "      <td>666.45</td>\n",
       "      <td>5,749,400</td>\n",
       "    </tr>\n",
       "    <tr>\n",
       "      <th>2</th>\n",
       "      <td>1/5/2012</td>\n",
       "      <td>329.83</td>\n",
       "      <td>330.75</td>\n",
       "      <td>326.89</td>\n",
       "      <td>657.21</td>\n",
       "      <td>6,590,300</td>\n",
       "    </tr>\n",
       "    <tr>\n",
       "      <th>3</th>\n",
       "      <td>1/6/2012</td>\n",
       "      <td>328.34</td>\n",
       "      <td>328.77</td>\n",
       "      <td>323.68</td>\n",
       "      <td>648.24</td>\n",
       "      <td>5,405,900</td>\n",
       "    </tr>\n",
       "    <tr>\n",
       "      <th>4</th>\n",
       "      <td>1/9/2012</td>\n",
       "      <td>322.04</td>\n",
       "      <td>322.29</td>\n",
       "      <td>309.46</td>\n",
       "      <td>620.76</td>\n",
       "      <td>11,688,800</td>\n",
       "    </tr>\n",
       "  </tbody>\n",
       "</table>\n",
       "</div>"
      ],
      "text/plain": [
       "       Date    Open    High     Low   Close      Volume\n",
       "0  1/3/2012  325.25  332.83  324.97  663.59   7,380,500\n",
       "1  1/4/2012  331.27  333.87  329.08  666.45   5,749,400\n",
       "2  1/5/2012  329.83  330.75  326.89  657.21   6,590,300\n",
       "3  1/6/2012  328.34  328.77  323.68  648.24   5,405,900\n",
       "4  1/9/2012  322.04  322.29  309.46  620.76  11,688,800"
      ]
     },
     "execution_count": 4,
     "metadata": {},
     "output_type": "execute_result"
    }
   ],
   "source": [
    "train_df.head()"
   ]
  },
  {
   "cell_type": "code",
   "execution_count": 5,
   "metadata": {},
   "outputs": [],
   "source": [
    "test_df = pd.read_csv(r'C:\\Users\\HP\\Desktop\\DL_Practicals\\Dataset\\Google_Stock_Price_Test.csv') #Path where the CSV file is stored."
   ]
  },
  {
   "cell_type": "code",
   "execution_count": 6,
   "metadata": {},
   "outputs": [
    {
     "data": {
      "text/html": [
       "<div>\n",
       "<style scoped>\n",
       "    .dataframe tbody tr th:only-of-type {\n",
       "        vertical-align: middle;\n",
       "    }\n",
       "\n",
       "    .dataframe tbody tr th {\n",
       "        vertical-align: top;\n",
       "    }\n",
       "\n",
       "    .dataframe thead th {\n",
       "        text-align: right;\n",
       "    }\n",
       "</style>\n",
       "<table border=\"1\" class=\"dataframe\">\n",
       "  <thead>\n",
       "    <tr style=\"text-align: right;\">\n",
       "      <th></th>\n",
       "      <th>Date</th>\n",
       "      <th>Open</th>\n",
       "      <th>High</th>\n",
       "      <th>Low</th>\n",
       "      <th>Close</th>\n",
       "      <th>Volume</th>\n",
       "    </tr>\n",
       "  </thead>\n",
       "  <tbody>\n",
       "    <tr>\n",
       "      <th>0</th>\n",
       "      <td>1/3/2017</td>\n",
       "      <td>778.81</td>\n",
       "      <td>789.63</td>\n",
       "      <td>775.80</td>\n",
       "      <td>786.14</td>\n",
       "      <td>1,657,300</td>\n",
       "    </tr>\n",
       "    <tr>\n",
       "      <th>1</th>\n",
       "      <td>1/4/2017</td>\n",
       "      <td>788.36</td>\n",
       "      <td>791.34</td>\n",
       "      <td>783.16</td>\n",
       "      <td>786.90</td>\n",
       "      <td>1,073,000</td>\n",
       "    </tr>\n",
       "    <tr>\n",
       "      <th>2</th>\n",
       "      <td>1/5/2017</td>\n",
       "      <td>786.08</td>\n",
       "      <td>794.48</td>\n",
       "      <td>785.02</td>\n",
       "      <td>794.02</td>\n",
       "      <td>1,335,200</td>\n",
       "    </tr>\n",
       "    <tr>\n",
       "      <th>3</th>\n",
       "      <td>1/6/2017</td>\n",
       "      <td>795.26</td>\n",
       "      <td>807.90</td>\n",
       "      <td>792.20</td>\n",
       "      <td>806.15</td>\n",
       "      <td>1,640,200</td>\n",
       "    </tr>\n",
       "    <tr>\n",
       "      <th>4</th>\n",
       "      <td>1/9/2017</td>\n",
       "      <td>806.40</td>\n",
       "      <td>809.97</td>\n",
       "      <td>802.83</td>\n",
       "      <td>806.65</td>\n",
       "      <td>1,272,400</td>\n",
       "    </tr>\n",
       "  </tbody>\n",
       "</table>\n",
       "</div>"
      ],
      "text/plain": [
       "       Date    Open    High     Low   Close     Volume\n",
       "0  1/3/2017  778.81  789.63  775.80  786.14  1,657,300\n",
       "1  1/4/2017  788.36  791.34  783.16  786.90  1,073,000\n",
       "2  1/5/2017  786.08  794.48  785.02  794.02  1,335,200\n",
       "3  1/6/2017  795.26  807.90  792.20  806.15  1,640,200\n",
       "4  1/9/2017  806.40  809.97  802.83  806.65  1,272,400"
      ]
     },
     "execution_count": 6,
     "metadata": {},
     "output_type": "execute_result"
    }
   ],
   "source": [
    "test_df.head()"
   ]
  },
  {
   "cell_type": "code",
   "execution_count": 7,
   "metadata": {},
   "outputs": [
    {
     "name": "stdout",
     "output_type": "stream",
     "text": [
      "<class 'pandas.core.frame.DataFrame'>\n",
      "RangeIndex: 20 entries, 0 to 19\n",
      "Data columns (total 6 columns):\n",
      " #   Column  Non-Null Count  Dtype  \n",
      "---  ------  --------------  -----  \n",
      " 0   Date    20 non-null     object \n",
      " 1   Open    20 non-null     float64\n",
      " 2   High    20 non-null     float64\n",
      " 3   Low     20 non-null     float64\n",
      " 4   Close   20 non-null     float64\n",
      " 5   Volume  20 non-null     object \n",
      "dtypes: float64(4), object(2)\n",
      "memory usage: 1.1+ KB\n"
     ]
    }
   ],
   "source": [
    "test_df.info()"
   ]
  },
  {
   "cell_type": "code",
   "execution_count": 8,
   "metadata": {},
   "outputs": [],
   "source": [
    "from sklearn.preprocessing import MinMaxScaler"
   ]
  },
  {
   "cell_type": "code",
   "execution_count": 9,
   "metadata": {},
   "outputs": [],
   "source": [
    "# Convert 'Close' column to string type and remove commas\n",
    "train_df['Close'] = train_df['Close'].astype(str).str.replace(',', '').astype(float)\n",
    "test_df['Close'] = test_df['Close'].astype(str).str.replace(',', '').astype(float)"
   ]
  },
  {
   "cell_type": "code",
   "execution_count": 11,
   "metadata": {},
   "outputs": [],
   "source": [
    "# Normalize the training and testing data separately\n",
    "train_scaler = MinMaxScaler()\n",
    "train_df['Normalized Close'] = train_scaler.fit_transform(train_df['Close'].values.reshape(-1, 1))\n",
    "test_scaler = MinMaxScaler()\n",
    "test_df['Normalized Close'] = test_scaler.fit_transform(test_df['Close'].values.reshape(-1, 1))"
   ]
  },
  {
   "cell_type": "code",
   "execution_count": 12,
   "metadata": {},
   "outputs": [],
   "source": [
    "# Convert the data to the appropriate format for RNN\n",
    "x_train = train_df['Normalized Close'].values[:-1].reshape(-1, 1, 1)\n",
    "y_train = train_df['Normalized Close'].values[1:].reshape(-1, 1, 1)\n",
    "x_test = test_df['Normalized Close'].values[:-1].reshape(-1, 1, 1)\n",
    "y_test = test_df['Normalized Close'].values[1:].reshape(-1, 1, 1)"
   ]
  },
  {
   "cell_type": "code",
   "execution_count": 13,
   "metadata": {},
   "outputs": [
    {
     "name": "stdout",
     "output_type": "stream",
     "text": [
      "x_train shape:  (1257, 1, 1)\n",
      "y_train shape:  (1257, 1, 1)\n",
      "x_test shape:  (19, 1, 1)\n",
      "y_test shape:  (19, 1, 1)\n"
     ]
    }
   ],
   "source": [
    "print(\"x_train shape: \",x_train.shape)\n",
    "print(\"y_train shape: \",y_train.shape)\n",
    "print(\"x_test shape: \",x_test.shape)\n",
    "print(\"y_test shape: \",y_test.shape)"
   ]
  },
  {
   "cell_type": "code",
   "execution_count": 14,
   "metadata": {},
   "outputs": [
    {
     "data": {
      "text/html": [
       "<div>\n",
       "<style scoped>\n",
       "    .dataframe tbody tr th:only-of-type {\n",
       "        vertical-align: middle;\n",
       "    }\n",
       "\n",
       "    .dataframe tbody tr th {\n",
       "        vertical-align: top;\n",
       "    }\n",
       "\n",
       "    .dataframe thead th {\n",
       "        text-align: right;\n",
       "    }\n",
       "</style>\n",
       "<table border=\"1\" class=\"dataframe\">\n",
       "  <thead>\n",
       "    <tr style=\"text-align: right;\">\n",
       "      <th></th>\n",
       "      <th>Date</th>\n",
       "      <th>Open</th>\n",
       "      <th>High</th>\n",
       "      <th>Low</th>\n",
       "      <th>Close</th>\n",
       "      <th>Volume</th>\n",
       "      <th>Normalized Close</th>\n",
       "    </tr>\n",
       "  </thead>\n",
       "  <tbody>\n",
       "    <tr>\n",
       "      <th>0</th>\n",
       "      <td>1/3/2012</td>\n",
       "      <td>325.25</td>\n",
       "      <td>332.83</td>\n",
       "      <td>324.97</td>\n",
       "      <td>663.59</td>\n",
       "      <td>7,380,500</td>\n",
       "      <td>0.237573</td>\n",
       "    </tr>\n",
       "    <tr>\n",
       "      <th>1</th>\n",
       "      <td>1/4/2012</td>\n",
       "      <td>331.27</td>\n",
       "      <td>333.87</td>\n",
       "      <td>329.08</td>\n",
       "      <td>666.45</td>\n",
       "      <td>5,749,400</td>\n",
       "      <td>0.241514</td>\n",
       "    </tr>\n",
       "    <tr>\n",
       "      <th>2</th>\n",
       "      <td>1/5/2012</td>\n",
       "      <td>329.83</td>\n",
       "      <td>330.75</td>\n",
       "      <td>326.89</td>\n",
       "      <td>657.21</td>\n",
       "      <td>6,590,300</td>\n",
       "      <td>0.228781</td>\n",
       "    </tr>\n",
       "    <tr>\n",
       "      <th>3</th>\n",
       "      <td>1/6/2012</td>\n",
       "      <td>328.34</td>\n",
       "      <td>328.77</td>\n",
       "      <td>323.68</td>\n",
       "      <td>648.24</td>\n",
       "      <td>5,405,900</td>\n",
       "      <td>0.216419</td>\n",
       "    </tr>\n",
       "    <tr>\n",
       "      <th>4</th>\n",
       "      <td>1/9/2012</td>\n",
       "      <td>322.04</td>\n",
       "      <td>322.29</td>\n",
       "      <td>309.46</td>\n",
       "      <td>620.76</td>\n",
       "      <td>11,688,800</td>\n",
       "      <td>0.178548</td>\n",
       "    </tr>\n",
       "  </tbody>\n",
       "</table>\n",
       "</div>"
      ],
      "text/plain": [
       "       Date    Open    High     Low   Close      Volume  Normalized Close\n",
       "0  1/3/2012  325.25  332.83  324.97  663.59   7,380,500          0.237573\n",
       "1  1/4/2012  331.27  333.87  329.08  666.45   5,749,400          0.241514\n",
       "2  1/5/2012  329.83  330.75  326.89  657.21   6,590,300          0.228781\n",
       "3  1/6/2012  328.34  328.77  323.68  648.24   5,405,900          0.216419\n",
       "4  1/9/2012  322.04  322.29  309.46  620.76  11,688,800          0.178548"
      ]
     },
     "execution_count": 14,
     "metadata": {},
     "output_type": "execute_result"
    }
   ],
   "source": [
    "train_df.head()"
   ]
  },
  {
   "cell_type": "code",
   "execution_count": 15,
   "metadata": {},
   "outputs": [
    {
     "data": {
      "text/html": [
       "<div>\n",
       "<style scoped>\n",
       "    .dataframe tbody tr th:only-of-type {\n",
       "        vertical-align: middle;\n",
       "    }\n",
       "\n",
       "    .dataframe tbody tr th {\n",
       "        vertical-align: top;\n",
       "    }\n",
       "\n",
       "    .dataframe thead th {\n",
       "        text-align: right;\n",
       "    }\n",
       "</style>\n",
       "<table border=\"1\" class=\"dataframe\">\n",
       "  <thead>\n",
       "    <tr style=\"text-align: right;\">\n",
       "      <th></th>\n",
       "      <th>Date</th>\n",
       "      <th>Open</th>\n",
       "      <th>High</th>\n",
       "      <th>Low</th>\n",
       "      <th>Close</th>\n",
       "      <th>Volume</th>\n",
       "      <th>Normalized Close</th>\n",
       "    </tr>\n",
       "  </thead>\n",
       "  <tbody>\n",
       "    <tr>\n",
       "      <th>0</th>\n",
       "      <td>1/3/2017</td>\n",
       "      <td>778.81</td>\n",
       "      <td>789.63</td>\n",
       "      <td>775.80</td>\n",
       "      <td>786.14</td>\n",
       "      <td>1,657,300</td>\n",
       "      <td>0.000000</td>\n",
       "    </tr>\n",
       "    <tr>\n",
       "      <th>1</th>\n",
       "      <td>1/4/2017</td>\n",
       "      <td>788.36</td>\n",
       "      <td>791.34</td>\n",
       "      <td>783.16</td>\n",
       "      <td>786.90</td>\n",
       "      <td>1,073,000</td>\n",
       "      <td>0.015344</td>\n",
       "    </tr>\n",
       "    <tr>\n",
       "      <th>2</th>\n",
       "      <td>1/5/2017</td>\n",
       "      <td>786.08</td>\n",
       "      <td>794.48</td>\n",
       "      <td>785.02</td>\n",
       "      <td>794.02</td>\n",
       "      <td>1,335,200</td>\n",
       "      <td>0.159095</td>\n",
       "    </tr>\n",
       "    <tr>\n",
       "      <th>3</th>\n",
       "      <td>1/6/2017</td>\n",
       "      <td>795.26</td>\n",
       "      <td>807.90</td>\n",
       "      <td>792.20</td>\n",
       "      <td>806.15</td>\n",
       "      <td>1,640,200</td>\n",
       "      <td>0.403998</td>\n",
       "    </tr>\n",
       "    <tr>\n",
       "      <th>4</th>\n",
       "      <td>1/9/2017</td>\n",
       "      <td>806.40</td>\n",
       "      <td>809.97</td>\n",
       "      <td>802.83</td>\n",
       "      <td>806.65</td>\n",
       "      <td>1,272,400</td>\n",
       "      <td>0.414092</td>\n",
       "    </tr>\n",
       "  </tbody>\n",
       "</table>\n",
       "</div>"
      ],
      "text/plain": [
       "       Date    Open    High     Low   Close     Volume  Normalized Close\n",
       "0  1/3/2017  778.81  789.63  775.80  786.14  1,657,300          0.000000\n",
       "1  1/4/2017  788.36  791.34  783.16  786.90  1,073,000          0.015344\n",
       "2  1/5/2017  786.08  794.48  785.02  794.02  1,335,200          0.159095\n",
       "3  1/6/2017  795.26  807.90  792.20  806.15  1,640,200          0.403998\n",
       "4  1/9/2017  806.40  809.97  802.83  806.65  1,272,400          0.414092"
      ]
     },
     "execution_count": 15,
     "metadata": {},
     "output_type": "execute_result"
    }
   ],
   "source": [
    "test_df.head()"
   ]
  },
  {
   "cell_type": "code",
   "execution_count": 16,
   "metadata": {},
   "outputs": [
    {
     "name": "stdout",
     "output_type": "stream",
     "text": [
      "<class 'pandas.core.frame.DataFrame'>\n",
      "RangeIndex: 20 entries, 0 to 19\n",
      "Data columns (total 7 columns):\n",
      " #   Column            Non-Null Count  Dtype  \n",
      "---  ------            --------------  -----  \n",
      " 0   Date              20 non-null     object \n",
      " 1   Open              20 non-null     float64\n",
      " 2   High              20 non-null     float64\n",
      " 3   Low               20 non-null     float64\n",
      " 4   Close             20 non-null     float64\n",
      " 5   Volume            20 non-null     object \n",
      " 6   Normalized Close  20 non-null     float64\n",
      "dtypes: float64(5), object(2)\n",
      "memory usage: 1.2+ KB\n"
     ]
    }
   ],
   "source": [
    "test_df.info()"
   ]
  },
  {
   "cell_type": "code",
   "execution_count": 17,
   "metadata": {},
   "outputs": [
    {
     "name": "stdout",
     "output_type": "stream",
     "text": [
      "<class 'pandas.core.frame.DataFrame'>\n",
      "RangeIndex: 1258 entries, 0 to 1257\n",
      "Data columns (total 7 columns):\n",
      " #   Column            Non-Null Count  Dtype  \n",
      "---  ------            --------------  -----  \n",
      " 0   Date              1258 non-null   object \n",
      " 1   Open              1258 non-null   float64\n",
      " 2   High              1258 non-null   float64\n",
      " 3   Low               1258 non-null   float64\n",
      " 4   Close             1258 non-null   float64\n",
      " 5   Volume            1258 non-null   object \n",
      " 6   Normalized Close  1258 non-null   float64\n",
      "dtypes: float64(5), object(2)\n",
      "memory usage: 68.9+ KB\n"
     ]
    }
   ],
   "source": [
    "train_df.info()"
   ]
  },
  {
   "cell_type": "code",
   "execution_count": 18,
   "metadata": {},
   "outputs": [],
   "source": [
    "from keras.models import Sequential\n",
    "from keras.layers import LSTM, Dense"
   ]
  },
  {
   "cell_type": "code",
   "execution_count": 19,
   "metadata": {},
   "outputs": [
    {
     "name": "stdout",
     "output_type": "stream",
     "text": [
      "Model: \"sequential\"\n",
      "_________________________________________________________________\n",
      " Layer (type)                Output Shape              Param #   \n",
      "=================================================================\n",
      " lstm (LSTM)                 (None, 4)                 96        \n",
      "                                                                 \n",
      " dense (Dense)               (None, 1)                 5         \n",
      "                                                                 \n",
      "=================================================================\n",
      "Total params: 101\n",
      "Trainable params: 101\n",
      "Non-trainable params: 0\n",
      "_________________________________________________________________\n"
     ]
    }
   ],
   "source": [
    "model = Sequential()\n",
    "model.add(LSTM(4, input_shape=(1, 1)))\n",
    "model.add(Dense(1))\n",
    "model.compile(loss='mean_squared_error', optimizer='adam')\n",
    "model.summary()"
   ]
  },
  {
   "cell_type": "code",
   "execution_count": 20,
   "metadata": {},
   "outputs": [
    {
     "name": "stdout",
     "output_type": "stream",
     "text": [
      "Epoch 1/100\n",
      "1257/1257 [==============================] - 8s 4ms/step - loss: 0.0529\n",
      "Epoch 2/100\n",
      "1257/1257 [==============================] - 5s 4ms/step - loss: 0.0095\n",
      "Epoch 3/100\n",
      "1257/1257 [==============================] - 5s 4ms/step - loss: 8.2118e-04\n",
      "Epoch 4/100\n",
      "1257/1257 [==============================] - 5s 4ms/step - loss: 7.6009e-04\n",
      "Epoch 5/100\n",
      "1257/1257 [==============================] - 5s 4ms/step - loss: 7.7351e-04\n",
      "Epoch 6/100\n",
      "1257/1257 [==============================] - 5s 4ms/step - loss: 7.6505e-04\n",
      "Epoch 7/100\n",
      "1257/1257 [==============================] - 5s 4ms/step - loss: 7.6411e-04\n",
      "Epoch 8/100\n",
      "1257/1257 [==============================] - 5s 4ms/step - loss: 7.6731e-04\n",
      "Epoch 9/100\n",
      "1257/1257 [==============================] - 5s 4ms/step - loss: 7.7169e-04\n",
      "Epoch 10/100\n",
      "1257/1257 [==============================] - 5s 4ms/step - loss: 7.6298e-04\n",
      "Epoch 11/100\n",
      "1257/1257 [==============================] - 5s 4ms/step - loss: 7.6598e-04\n",
      "Epoch 12/100\n",
      "1257/1257 [==============================] - 5s 4ms/step - loss: 7.6550e-04\n",
      "Epoch 13/100\n",
      "1257/1257 [==============================] - 5s 4ms/step - loss: 7.7625e-04\n",
      "Epoch 14/100\n",
      "1257/1257 [==============================] - 5s 4ms/step - loss: 7.7595e-04\n",
      "Epoch 15/100\n",
      "1257/1257 [==============================] - 5s 4ms/step - loss: 7.7230e-04\n",
      "Epoch 16/100\n",
      "1257/1257 [==============================] - 5s 4ms/step - loss: 7.6658e-04\n",
      "Epoch 17/100\n",
      "1257/1257 [==============================] - 5s 4ms/step - loss: 7.7024e-04\n",
      "Epoch 18/100\n",
      "1257/1257 [==============================] - 5s 4ms/step - loss: 7.6957e-04\n",
      "Epoch 19/100\n",
      "1257/1257 [==============================] - 5s 4ms/step - loss: 7.5754e-04\n",
      "Epoch 20/100\n",
      "1257/1257 [==============================] - 5s 4ms/step - loss: 7.6522e-04\n",
      "Epoch 21/100\n",
      "1257/1257 [==============================] - 5s 4ms/step - loss: 7.7746e-04\n",
      "Epoch 22/100\n",
      "1257/1257 [==============================] - 5s 4ms/step - loss: 7.6196e-04\n",
      "Epoch 23/100\n",
      "1257/1257 [==============================] - 5s 4ms/step - loss: 7.6894e-04\n",
      "Epoch 24/100\n",
      "1257/1257 [==============================] - 5s 4ms/step - loss: 7.6222e-04\n",
      "Epoch 25/100\n",
      "1257/1257 [==============================] - 5s 4ms/step - loss: 7.7229e-04\n",
      "Epoch 26/100\n",
      "1257/1257 [==============================] - 5s 4ms/step - loss: 7.6723e-04\n",
      "Epoch 27/100\n",
      "1257/1257 [==============================] - 5s 4ms/step - loss: 7.6496e-04\n",
      "Epoch 28/100\n",
      "1257/1257 [==============================] - 5s 4ms/step - loss: 7.8046e-04\n",
      "Epoch 29/100\n",
      "1257/1257 [==============================] - 5s 4ms/step - loss: 7.6245e-04\n",
      "Epoch 30/100\n",
      "1257/1257 [==============================] - 5s 4ms/step - loss: 7.6724e-04\n",
      "Epoch 31/100\n",
      "1257/1257 [==============================] - 5s 4ms/step - loss: 7.6057e-04\n",
      "Epoch 32/100\n",
      "1257/1257 [==============================] - 5s 4ms/step - loss: 7.5735e-04\n",
      "Epoch 33/100\n",
      "1257/1257 [==============================] - 5s 4ms/step - loss: 7.6345e-04\n",
      "Epoch 34/100\n",
      "1257/1257 [==============================] - 5s 4ms/step - loss: 7.4815e-04\n",
      "Epoch 35/100\n",
      "1257/1257 [==============================] - 5s 4ms/step - loss: 7.6698e-04\n",
      "Epoch 36/100\n",
      "1257/1257 [==============================] - 5s 4ms/step - loss: 7.7122e-04\n",
      "Epoch 37/100\n",
      "1257/1257 [==============================] - 5s 4ms/step - loss: 7.6807e-04\n",
      "Epoch 38/100\n",
      "1257/1257 [==============================] - 5s 4ms/step - loss: 7.6141e-04\n",
      "Epoch 39/100\n",
      "1257/1257 [==============================] - 5s 4ms/step - loss: 7.6961e-04\n",
      "Epoch 40/100\n",
      "1257/1257 [==============================] - 5s 4ms/step - loss: 7.6729e-04\n",
      "Epoch 41/100\n",
      "1257/1257 [==============================] - 5s 4ms/step - loss: 7.5044e-04\n",
      "Epoch 42/100\n",
      "1257/1257 [==============================] - 5s 4ms/step - loss: 7.6769e-04\n",
      "Epoch 43/100\n",
      "1257/1257 [==============================] - 5s 4ms/step - loss: 7.5991e-04\n",
      "Epoch 44/100\n",
      "1257/1257 [==============================] - 5s 4ms/step - loss: 7.6794e-04\n",
      "Epoch 45/100\n",
      "1257/1257 [==============================] - 5s 4ms/step - loss: 7.6833e-04\n",
      "Epoch 46/100\n",
      "1257/1257 [==============================] - 5s 4ms/step - loss: 7.5974e-04\n",
      "Epoch 47/100\n",
      "1257/1257 [==============================] - 5s 4ms/step - loss: 7.6868e-04\n",
      "Epoch 48/100\n",
      "1257/1257 [==============================] - 5s 4ms/step - loss: 7.5959e-04\n",
      "Epoch 49/100\n",
      "1257/1257 [==============================] - 5s 4ms/step - loss: 7.5187e-04\n",
      "Epoch 50/100\n",
      "1257/1257 [==============================] - 5s 4ms/step - loss: 7.5234e-04\n",
      "Epoch 51/100\n",
      "1257/1257 [==============================] - 5s 4ms/step - loss: 7.6769e-04\n",
      "Epoch 52/100\n",
      "1257/1257 [==============================] - 5s 4ms/step - loss: 7.6325e-04\n",
      "Epoch 53/100\n",
      "1257/1257 [==============================] - 5s 4ms/step - loss: 7.4905e-04\n",
      "Epoch 54/100\n",
      "1257/1257 [==============================] - 5s 4ms/step - loss: 7.7032e-04\n",
      "Epoch 55/100\n",
      "1257/1257 [==============================] - 4s 4ms/step - loss: 7.5216e-04\n",
      "Epoch 56/100\n",
      "1257/1257 [==============================] - 5s 4ms/step - loss: 7.6054e-04\n",
      "Epoch 57/100\n",
      "1257/1257 [==============================] - 4s 4ms/step - loss: 7.6181e-04\n",
      "Epoch 58/100\n",
      "1257/1257 [==============================] - 4s 4ms/step - loss: 7.6185e-04\n",
      "Epoch 59/100\n",
      "1257/1257 [==============================] - 4s 3ms/step - loss: 7.6451e-04\n",
      "Epoch 60/100\n",
      "1257/1257 [==============================] - 5s 4ms/step - loss: 7.7050e-04\n",
      "Epoch 61/100\n",
      "1257/1257 [==============================] - 4s 3ms/step - loss: 7.4430e-04\n",
      "Epoch 62/100\n",
      "1257/1257 [==============================] - 5s 4ms/step - loss: 7.6181e-04\n",
      "Epoch 63/100\n",
      "1257/1257 [==============================] - 4s 4ms/step - loss: 7.6336e-04\n",
      "Epoch 64/100\n",
      "1257/1257 [==============================] - 4s 4ms/step - loss: 7.6084e-04\n",
      "Epoch 65/100\n",
      "1257/1257 [==============================] - 5s 4ms/step - loss: 7.5776e-04\n",
      "Epoch 66/100\n",
      "1257/1257 [==============================] - 5s 4ms/step - loss: 7.5564e-04\n",
      "Epoch 67/100\n",
      "1257/1257 [==============================] - 5s 4ms/step - loss: 7.5796e-04\n",
      "Epoch 68/100\n",
      "1257/1257 [==============================] - 5s 4ms/step - loss: 7.6231e-04\n",
      "Epoch 69/100\n",
      "1257/1257 [==============================] - 5s 4ms/step - loss: 7.5416e-04\n",
      "Epoch 70/100\n",
      "1257/1257 [==============================] - 5s 4ms/step - loss: 7.5977e-04\n",
      "Epoch 71/100\n",
      "1257/1257 [==============================] - 5s 4ms/step - loss: 7.6546e-04\n",
      "Epoch 72/100\n",
      "1257/1257 [==============================] - 5s 4ms/step - loss: 7.4929e-04\n",
      "Epoch 73/100\n",
      "1257/1257 [==============================] - 5s 4ms/step - loss: 7.5970e-04\n",
      "Epoch 74/100\n",
      "1257/1257 [==============================] - 5s 4ms/step - loss: 7.6876e-04\n",
      "Epoch 75/100\n",
      "1257/1257 [==============================] - 5s 4ms/step - loss: 7.6379e-04\n",
      "Epoch 76/100\n",
      "1257/1257 [==============================] - 5s 4ms/step - loss: 7.6252e-04\n",
      "Epoch 77/100\n",
      "1257/1257 [==============================] - 5s 4ms/step - loss: 7.4748e-04\n",
      "Epoch 78/100\n",
      "1257/1257 [==============================] - 5s 4ms/step - loss: 7.4625e-04\n",
      "Epoch 79/100\n",
      "1257/1257 [==============================] - 5s 4ms/step - loss: 7.6318e-04\n",
      "Epoch 80/100\n",
      "1257/1257 [==============================] - 5s 4ms/step - loss: 7.5034e-04\n",
      "Epoch 81/100\n",
      "1257/1257 [==============================] - 5s 4ms/step - loss: 7.5165e-04\n",
      "Epoch 82/100\n",
      "1257/1257 [==============================] - 5s 4ms/step - loss: 7.7540e-04\n",
      "Epoch 83/100\n",
      "1257/1257 [==============================] - 5s 4ms/step - loss: 7.5376e-04\n",
      "Epoch 84/100\n",
      "1257/1257 [==============================] - 5s 4ms/step - loss: 7.6254e-04\n",
      "Epoch 85/100\n",
      "1257/1257 [==============================] - 5s 4ms/step - loss: 7.5183e-04\n",
      "Epoch 86/100\n",
      "1257/1257 [==============================] - 5s 4ms/step - loss: 7.6529e-04\n",
      "Epoch 87/100\n",
      "1257/1257 [==============================] - 5s 4ms/step - loss: 7.4765e-04\n",
      "Epoch 88/100\n",
      "1257/1257 [==============================] - 5s 4ms/step - loss: 7.5444e-04\n",
      "Epoch 89/100\n",
      "1257/1257 [==============================] - 5s 4ms/step - loss: 7.4443e-04\n",
      "Epoch 90/100\n",
      "1257/1257 [==============================] - 5s 4ms/step - loss: 7.6158e-04\n",
      "Epoch 91/100\n",
      "1257/1257 [==============================] - 4s 3ms/step - loss: 7.6760e-04\n",
      "Epoch 92/100\n",
      "1257/1257 [==============================] - 4s 3ms/step - loss: 7.4904e-04\n",
      "Epoch 93/100\n",
      "1257/1257 [==============================] - 5s 4ms/step - loss: 7.5839e-04\n",
      "Epoch 94/100\n",
      "1257/1257 [==============================] - 4s 4ms/step - loss: 7.4534e-04\n",
      "Epoch 95/100\n",
      "1257/1257 [==============================] - 4s 4ms/step - loss: 7.6065e-04\n",
      "Epoch 96/100\n",
      "1257/1257 [==============================] - 4s 4ms/step - loss: 7.6136e-04\n",
      "Epoch 97/100\n",
      "1257/1257 [==============================] - 4s 4ms/step - loss: 7.5798e-04\n",
      "Epoch 98/100\n",
      "1257/1257 [==============================] - 4s 4ms/step - loss: 7.4745e-04\n",
      "Epoch 99/100\n",
      "1257/1257 [==============================] - 4s 4ms/step - loss: 7.6241e-04\n",
      "Epoch 100/100\n",
      "1257/1257 [==============================] - 5s 4ms/step - loss: 7.5226e-04\n"
     ]
    },
    {
     "data": {
      "text/plain": [
       "<keras.callbacks.History at 0x1b420804b20>"
      ]
     },
     "execution_count": 20,
     "metadata": {},
     "output_type": "execute_result"
    }
   ],
   "source": [
    "model.fit(x_train, y_train, epochs=100, batch_size=1, verbose=1)"
   ]
  },
  {
   "cell_type": "code",
   "execution_count": 21,
   "metadata": {},
   "outputs": [
    {
     "name": "stdout",
     "output_type": "stream",
     "text": [
      "1/1 [==============================] - 1s 1s/step - loss: 0.0251\n",
      "Testing loss:  0.0251482967287302\n"
     ]
    }
   ],
   "source": [
    "test_loss = model.evaluate(x_test, y_test)\n",
    "print('Testing loss: ', test_loss)"
   ]
  },
  {
   "cell_type": "code",
   "execution_count": 22,
   "metadata": {},
   "outputs": [
    {
     "name": "stdout",
     "output_type": "stream",
     "text": [
      "1/1 [==============================] - 1s 850ms/step\n"
     ]
    }
   ],
   "source": [
    "y_pred = model.predict(x_test)"
   ]
  },
  {
   "cell_type": "code",
   "execution_count": 23,
   "metadata": {},
   "outputs": [],
   "source": [
    "# Inverse transform the normalized values to get the actual values\n",
    "y_test_actual = test_scaler.inverse_transform(y_test.reshape(-1, 1))\n",
    "y_pred_actual = test_scaler.inverse_transform(y_pred.reshape(-1, 1))"
   ]
  },
  {
   "cell_type": "code",
   "execution_count": 24,
   "metadata": {},
   "outputs": [],
   "source": [
    "i=1"
   ]
  },
  {
   "cell_type": "code",
   "execution_count": 25,
   "metadata": {},
   "outputs": [
    {
     "name": "stdout",
     "output_type": "stream",
     "text": [
      "Actual value: 794.02\n",
      "Predicted value: 787.18\n"
     ]
    }
   ],
   "source": [
    "print(\"Actual value: {:.2f}\".format(y_test_actual[i][0]))\n",
    "print(\"Predicted value: {:.2f}\".format(y_pred_actual[i][0]))"
   ]
  },
  {
   "cell_type": "code",
   "execution_count": null,
   "metadata": {},
   "outputs": [],
   "source": []
  }
 ],
 "metadata": {
  "kernelspec": {
   "display_name": "Python 3",
   "language": "python",
   "name": "python3"
  },
  "language_info": {
   "codemirror_mode": {
    "name": "ipython",
    "version": 3
   },
   "file_extension": ".py",
   "mimetype": "text/x-python",
   "name": "python",
   "nbconvert_exporter": "python",
   "pygments_lexer": "ipython3",
   "version": "3.8.5"
  }
 },
 "nbformat": 4,
 "nbformat_minor": 4
}
