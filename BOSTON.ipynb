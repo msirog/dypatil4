{
 "cells": [
  {
   "cell_type": "code",
   "execution_count": 1,
   "metadata": {},
   "outputs": [],
   "source": [
    "import pandas as pd\n",
    "import numpy as np\n",
    "from sklearn.model_selection import train_test_split"
   ]
  },
  {
   "cell_type": "code",
   "execution_count": 2,
   "metadata": {},
   "outputs": [],
   "source": [
    "df = pd.read_csv(r'C:\\Users\\HP\\Desktop\\DL_Practicals\\Dataset\\BostonHousingData.csv')"
   ]
  },
  {
   "cell_type": "code",
   "execution_count": 3,
   "metadata": {},
   "outputs": [
    {
     "data": {
      "text/html": [
       "<div>\n",
       "<style scoped>\n",
       "    .dataframe tbody tr th:only-of-type {\n",
       "        vertical-align: middle;\n",
       "    }\n",
       "\n",
       "    .dataframe tbody tr th {\n",
       "        vertical-align: top;\n",
       "    }\n",
       "\n",
       "    .dataframe thead th {\n",
       "        text-align: right;\n",
       "    }\n",
       "</style>\n",
       "<table border=\"1\" class=\"dataframe\">\n",
       "  <thead>\n",
       "    <tr style=\"text-align: right;\">\n",
       "      <th></th>\n",
       "      <th>CRIM</th>\n",
       "      <th>ZN</th>\n",
       "      <th>INDUS</th>\n",
       "      <th>CHAS</th>\n",
       "      <th>NOX</th>\n",
       "      <th>RM</th>\n",
       "      <th>AGE</th>\n",
       "      <th>DIS</th>\n",
       "      <th>RAD</th>\n",
       "      <th>TAX</th>\n",
       "      <th>PTRATIO</th>\n",
       "      <th>B</th>\n",
       "      <th>LSTAT</th>\n",
       "      <th>MEDV</th>\n",
       "    </tr>\n",
       "  </thead>\n",
       "  <tbody>\n",
       "    <tr>\n",
       "      <th>0</th>\n",
       "      <td>0.00632</td>\n",
       "      <td>18.0</td>\n",
       "      <td>2.31</td>\n",
       "      <td>0</td>\n",
       "      <td>0.538</td>\n",
       "      <td>6.575</td>\n",
       "      <td>65.2</td>\n",
       "      <td>4.0900</td>\n",
       "      <td>1</td>\n",
       "      <td>296</td>\n",
       "      <td>15.3</td>\n",
       "      <td>396.90</td>\n",
       "      <td>4.98</td>\n",
       "      <td>24.0</td>\n",
       "    </tr>\n",
       "    <tr>\n",
       "      <th>1</th>\n",
       "      <td>0.02731</td>\n",
       "      <td>0.0</td>\n",
       "      <td>7.07</td>\n",
       "      <td>0</td>\n",
       "      <td>0.469</td>\n",
       "      <td>6.421</td>\n",
       "      <td>78.9</td>\n",
       "      <td>4.9671</td>\n",
       "      <td>2</td>\n",
       "      <td>242</td>\n",
       "      <td>17.8</td>\n",
       "      <td>396.90</td>\n",
       "      <td>9.14</td>\n",
       "      <td>21.6</td>\n",
       "    </tr>\n",
       "    <tr>\n",
       "      <th>2</th>\n",
       "      <td>0.02729</td>\n",
       "      <td>0.0</td>\n",
       "      <td>7.07</td>\n",
       "      <td>0</td>\n",
       "      <td>0.469</td>\n",
       "      <td>7.185</td>\n",
       "      <td>61.1</td>\n",
       "      <td>4.9671</td>\n",
       "      <td>2</td>\n",
       "      <td>242</td>\n",
       "      <td>17.8</td>\n",
       "      <td>392.83</td>\n",
       "      <td>4.03</td>\n",
       "      <td>34.7</td>\n",
       "    </tr>\n",
       "    <tr>\n",
       "      <th>3</th>\n",
       "      <td>0.03237</td>\n",
       "      <td>0.0</td>\n",
       "      <td>2.18</td>\n",
       "      <td>0</td>\n",
       "      <td>0.458</td>\n",
       "      <td>6.998</td>\n",
       "      <td>45.8</td>\n",
       "      <td>6.0622</td>\n",
       "      <td>3</td>\n",
       "      <td>222</td>\n",
       "      <td>18.7</td>\n",
       "      <td>394.63</td>\n",
       "      <td>2.94</td>\n",
       "      <td>33.4</td>\n",
       "    </tr>\n",
       "    <tr>\n",
       "      <th>4</th>\n",
       "      <td>0.06905</td>\n",
       "      <td>0.0</td>\n",
       "      <td>2.18</td>\n",
       "      <td>0</td>\n",
       "      <td>0.458</td>\n",
       "      <td>7.147</td>\n",
       "      <td>54.2</td>\n",
       "      <td>6.0622</td>\n",
       "      <td>3</td>\n",
       "      <td>222</td>\n",
       "      <td>18.7</td>\n",
       "      <td>396.90</td>\n",
       "      <td>5.33</td>\n",
       "      <td>36.2</td>\n",
       "    </tr>\n",
       "  </tbody>\n",
       "</table>\n",
       "</div>"
      ],
      "text/plain": [
       "      CRIM    ZN  INDUS  CHAS    NOX     RM   AGE     DIS  RAD  TAX  PTRATIO  \\\n",
       "0  0.00632  18.0   2.31     0  0.538  6.575  65.2  4.0900    1  296     15.3   \n",
       "1  0.02731   0.0   7.07     0  0.469  6.421  78.9  4.9671    2  242     17.8   \n",
       "2  0.02729   0.0   7.07     0  0.469  7.185  61.1  4.9671    2  242     17.8   \n",
       "3  0.03237   0.0   2.18     0  0.458  6.998  45.8  6.0622    3  222     18.7   \n",
       "4  0.06905   0.0   2.18     0  0.458  7.147  54.2  6.0622    3  222     18.7   \n",
       "\n",
       "        B  LSTAT  MEDV  \n",
       "0  396.90   4.98  24.0  \n",
       "1  396.90   9.14  21.6  \n",
       "2  392.83   4.03  34.7  \n",
       "3  394.63   2.94  33.4  \n",
       "4  396.90   5.33  36.2  "
      ]
     },
     "execution_count": 3,
     "metadata": {},
     "output_type": "execute_result"
    }
   ],
   "source": [
    "df.head()"
   ]
  },
  {
   "cell_type": "code",
   "execution_count": 4,
   "metadata": {},
   "outputs": [],
   "source": [
    "x = df.drop(\"MEDV\", axis=1).values\n",
    "y = df[\"MEDV\"].values"
   ]
  },
  {
   "cell_type": "code",
   "execution_count": 5,
   "metadata": {},
   "outputs": [
    {
     "data": {
      "text/plain": [
       "(506, 13)"
      ]
     },
     "execution_count": 5,
     "metadata": {},
     "output_type": "execute_result"
    }
   ],
   "source": [
    "x.shape"
   ]
  },
  {
   "cell_type": "code",
   "execution_count": 6,
   "metadata": {},
   "outputs": [
    {
     "data": {
      "text/plain": [
       "(506,)"
      ]
     },
     "execution_count": 6,
     "metadata": {},
     "output_type": "execute_result"
    }
   ],
   "source": [
    "y.shape"
   ]
  },
  {
   "cell_type": "code",
   "execution_count": 7,
   "metadata": {},
   "outputs": [],
   "source": [
    "x_train, x_test, y_train, y_test = train_test_split(x, y, test_size=0.2)"
   ]
  },
  {
   "cell_type": "code",
   "execution_count": 8,
   "metadata": {},
   "outputs": [
    {
     "name": "stdout",
     "output_type": "stream",
     "text": [
      "x_train Shape : (404, 13)\n",
      "x_test Shape : (102, 13)\n",
      "y_train shape : (404,)\n",
      "y_test shape : (102,)\n"
     ]
    }
   ],
   "source": [
    "def shape():\n",
    "    print(\"x_train Shape :\",x_train.shape)\n",
    "    print(\"x_test Shape :\",x_test.shape)\n",
    "    print(\"y_train shape :\",y_train.shape)\n",
    "    print(\"y_test shape :\",y_test.shape)\n",
    "shape()"
   ]
  },
  {
   "cell_type": "code",
   "execution_count": 9,
   "metadata": {},
   "outputs": [],
   "source": [
    "mean=x_train.mean(axis=0)\n",
    "std=x_train.std(axis=0)\n",
    "x_train=(x_train-mean)/std\n",
    "x_test=(x_test-mean)/std"
   ]
  },
  {
   "cell_type": "code",
   "execution_count": 10,
   "metadata": {},
   "outputs": [
    {
     "data": {
      "text/plain": [
       "array([ 0.48487727, -0.49715384,  1.07171376, -0.28322059,  0.3834044 ,\n",
       "       -0.95071032,  1.05021732, -1.11795099,  1.8013061 ,  1.6580501 ,\n",
       "        0.83546471, -0.55085918,  1.9054514 ])"
      ]
     },
     "execution_count": 10,
     "metadata": {},
     "output_type": "execute_result"
    }
   ],
   "source": [
    "x_train[0]"
   ]
  },
  {
   "cell_type": "code",
   "execution_count": 11,
   "metadata": {},
   "outputs": [
    {
     "data": {
      "text/plain": [
       "17.2"
      ]
     },
     "execution_count": 11,
     "metadata": {},
     "output_type": "execute_result"
    }
   ],
   "source": [
    "y_train[0]"
   ]
  },
  {
   "cell_type": "code",
   "execution_count": 12,
   "metadata": {},
   "outputs": [],
   "source": [
    "from tensorflow.keras.models import Sequential\n",
    "from tensorflow.keras.layers import Dense"
   ]
  },
  {
   "cell_type": "code",
   "execution_count": 13,
   "metadata": {},
   "outputs": [
    {
     "name": "stdout",
     "output_type": "stream",
     "text": [
      "Model: \"sequential\"\n",
      "_________________________________________________________________\n",
      " Layer (type)                Output Shape              Param #   \n",
      "=================================================================\n",
      " dense (Dense)               (None, 128)               1792      \n",
      "                                                                 \n",
      " dense_1 (Dense)             (None, 64)                8256      \n",
      "                                                                 \n",
      " dense_2 (Dense)             (None, 1)                 65        \n",
      "                                                                 \n",
      "=================================================================\n",
      "Total params: 10,113\n",
      "Trainable params: 10,113\n",
      "Non-trainable params: 0\n",
      "_________________________________________________________________\n"
     ]
    }
   ],
   "source": [
    "model=Sequential()\n",
    "model.add(Dense(128,activation='relu',input_shape=(x_train[0].shape)))\n",
    "model.add(Dense(64,activation='relu'))\n",
    "model.add(Dense(1,activation='linear'))\n",
    "model.compile(optimizer='adam', loss='mse', metrics=['mae'])\n",
    "model.summary()"
   ]
  },
  {
   "cell_type": "code",
   "execution_count": 15,
   "metadata": {},
   "outputs": [
    {
     "name": "stdout",
     "output_type": "stream",
     "text": [
      "Epoch 1/100\n",
      "404/404 [==============================] - 3s 4ms/step - loss: 143.0295 - mae: 7.9479 - val_loss: 18.0996 - val_mae: 3.1507\n",
      "Epoch 2/100\n",
      "404/404 [==============================] - 1s 3ms/step - loss: 18.7438 - mae: 3.0487 - val_loss: 21.6800 - val_mae: 3.2246\n",
      "Epoch 3/100\n",
      "404/404 [==============================] - 1s 3ms/step - loss: 14.3573 - mae: 2.6962 - val_loss: 20.1187 - val_mae: 3.0985\n",
      "Epoch 4/100\n",
      "404/404 [==============================] - 1s 3ms/step - loss: 11.9108 - mae: 2.5524 - val_loss: 18.7049 - val_mae: 2.8357\n",
      "Epoch 5/100\n",
      "404/404 [==============================] - 1s 3ms/step - loss: 10.9990 - mae: 2.3949 - val_loss: 18.7008 - val_mae: 3.1202\n",
      "Epoch 6/100\n",
      "404/404 [==============================] - 1s 3ms/step - loss: 11.3058 - mae: 2.3935 - val_loss: 17.6649 - val_mae: 2.7525\n",
      "Epoch 7/100\n",
      "404/404 [==============================] - 1s 3ms/step - loss: 10.0808 - mae: 2.2856 - val_loss: 21.9396 - val_mae: 3.1134\n",
      "Epoch 8/100\n",
      "404/404 [==============================] - 1s 3ms/step - loss: 10.1797 - mae: 2.3214 - val_loss: 19.2100 - val_mae: 3.0623\n",
      "Epoch 9/100\n",
      "404/404 [==============================] - 1s 3ms/step - loss: 9.5944 - mae: 2.2101 - val_loss: 18.2222 - val_mae: 3.0348\n",
      "Epoch 10/100\n",
      "404/404 [==============================] - 1s 3ms/step - loss: 9.8351 - mae: 2.2818 - val_loss: 19.8179 - val_mae: 2.8592\n",
      "Epoch 11/100\n",
      "404/404 [==============================] - 1s 3ms/step - loss: 9.2059 - mae: 2.1481 - val_loss: 20.8453 - val_mae: 3.2627\n",
      "Epoch 12/100\n",
      "404/404 [==============================] - 1s 3ms/step - loss: 8.7063 - mae: 2.1699 - val_loss: 19.5200 - val_mae: 3.0220\n",
      "Epoch 13/100\n",
      "404/404 [==============================] - 1s 3ms/step - loss: 7.6498 - mae: 1.9397 - val_loss: 29.4909 - val_mae: 3.3795\n",
      "Epoch 14/100\n",
      "404/404 [==============================] - 2s 4ms/step - loss: 8.6225 - mae: 2.1372 - val_loss: 19.3297 - val_mae: 3.1115\n",
      "Epoch 15/100\n",
      "404/404 [==============================] - 1s 3ms/step - loss: 8.2270 - mae: 2.0995 - val_loss: 15.4091 - val_mae: 2.5732\n",
      "Epoch 16/100\n",
      "404/404 [==============================] - 1s 3ms/step - loss: 8.0534 - mae: 2.0176 - val_loss: 29.3261 - val_mae: 3.5403\n",
      "Epoch 17/100\n",
      "404/404 [==============================] - 1s 3ms/step - loss: 8.2615 - mae: 2.0589 - val_loss: 16.8330 - val_mae: 2.8129\n",
      "Epoch 18/100\n",
      "404/404 [==============================] - 1s 3ms/step - loss: 7.8290 - mae: 2.0045 - val_loss: 15.9263 - val_mae: 2.7949\n",
      "Epoch 19/100\n",
      "404/404 [==============================] - 1s 3ms/step - loss: 6.8966 - mae: 1.9316 - val_loss: 20.5838 - val_mae: 3.2409\n",
      "Epoch 20/100\n",
      "404/404 [==============================] - 1s 3ms/step - loss: 7.2992 - mae: 1.9974 - val_loss: 18.6715 - val_mae: 2.8773\n",
      "Epoch 21/100\n",
      "404/404 [==============================] - 1s 3ms/step - loss: 7.4992 - mae: 1.9726 - val_loss: 18.8407 - val_mae: 2.8695\n",
      "Epoch 22/100\n",
      "404/404 [==============================] - 1s 3ms/step - loss: 7.0565 - mae: 1.9474 - val_loss: 15.9154 - val_mae: 2.6218\n",
      "Epoch 23/100\n",
      "404/404 [==============================] - 1s 3ms/step - loss: 6.7947 - mae: 1.8672 - val_loss: 16.7376 - val_mae: 2.6559\n",
      "Epoch 24/100\n",
      "404/404 [==============================] - 1s 3ms/step - loss: 7.1008 - mae: 1.9230 - val_loss: 15.3718 - val_mae: 2.7041\n",
      "Epoch 25/100\n",
      "404/404 [==============================] - 1s 3ms/step - loss: 6.9161 - mae: 1.8985 - val_loss: 18.1619 - val_mae: 2.9812\n",
      "Epoch 26/100\n",
      "404/404 [==============================] - 1s 3ms/step - loss: 6.5941 - mae: 1.8884 - val_loss: 16.6818 - val_mae: 2.6182\n",
      "Epoch 27/100\n",
      "404/404 [==============================] - 1s 3ms/step - loss: 6.2761 - mae: 1.8023 - val_loss: 17.3105 - val_mae: 2.8628\n",
      "Epoch 28/100\n",
      "404/404 [==============================] - 1s 4ms/step - loss: 6.1906 - mae: 1.8110 - val_loss: 22.6122 - val_mae: 3.0370\n",
      "Epoch 29/100\n",
      "404/404 [==============================] - 1s 4ms/step - loss: 6.3937 - mae: 1.8023 - val_loss: 15.1943 - val_mae: 2.5570\n",
      "Epoch 30/100\n",
      "404/404 [==============================] - 1s 3ms/step - loss: 5.7526 - mae: 1.7170 - val_loss: 16.5306 - val_mae: 2.9326\n",
      "Epoch 31/100\n",
      "404/404 [==============================] - 1s 4ms/step - loss: 5.9804 - mae: 1.7743 - val_loss: 15.1596 - val_mae: 2.6842\n",
      "Epoch 32/100\n",
      "404/404 [==============================] - 1s 4ms/step - loss: 5.3968 - mae: 1.6376 - val_loss: 24.9519 - val_mae: 3.2664\n",
      "Epoch 33/100\n",
      "404/404 [==============================] - 1s 4ms/step - loss: 5.8852 - mae: 1.7150 - val_loss: 15.1319 - val_mae: 2.5624\n",
      "Epoch 34/100\n",
      "404/404 [==============================] - 1s 4ms/step - loss: 5.5815 - mae: 1.7169 - val_loss: 15.8102 - val_mae: 2.7959\n",
      "Epoch 35/100\n",
      "404/404 [==============================] - 2s 4ms/step - loss: 5.6007 - mae: 1.7007 - val_loss: 17.4755 - val_mae: 3.0693\n",
      "Epoch 36/100\n",
      "404/404 [==============================] - 1s 4ms/step - loss: 5.6526 - mae: 1.7704 - val_loss: 15.4090 - val_mae: 2.6176\n",
      "Epoch 37/100\n",
      "404/404 [==============================] - 1s 4ms/step - loss: 5.3436 - mae: 1.6675 - val_loss: 14.7850 - val_mae: 2.7028\n",
      "Epoch 38/100\n",
      "404/404 [==============================] - 1s 4ms/step - loss: 5.0067 - mae: 1.6007 - val_loss: 13.1488 - val_mae: 2.5349\n",
      "Epoch 39/100\n",
      "404/404 [==============================] - 1s 3ms/step - loss: 4.7445 - mae: 1.6233 - val_loss: 15.8817 - val_mae: 2.6859\n",
      "Epoch 40/100\n",
      "404/404 [==============================] - 1s 4ms/step - loss: 4.8059 - mae: 1.6342 - val_loss: 14.5304 - val_mae: 2.6017\n",
      "Epoch 41/100\n",
      "404/404 [==============================] - 2s 4ms/step - loss: 4.5718 - mae: 1.5647 - val_loss: 15.1572 - val_mae: 2.7189\n",
      "Epoch 42/100\n",
      "404/404 [==============================] - 1s 4ms/step - loss: 5.1137 - mae: 1.6321 - val_loss: 14.3852 - val_mae: 2.7701\n",
      "Epoch 43/100\n",
      "404/404 [==============================] - 1s 4ms/step - loss: 4.8786 - mae: 1.6668 - val_loss: 18.9012 - val_mae: 2.9794\n",
      "Epoch 44/100\n",
      "404/404 [==============================] - 1s 4ms/step - loss: 4.8478 - mae: 1.6451 - val_loss: 16.1805 - val_mae: 2.7513\n",
      "Epoch 45/100\n",
      "404/404 [==============================] - 1s 4ms/step - loss: 4.7032 - mae: 1.5721 - val_loss: 13.1607 - val_mae: 2.4666\n",
      "Epoch 46/100\n",
      "404/404 [==============================] - 1s 4ms/step - loss: 4.8401 - mae: 1.6282 - val_loss: 14.0643 - val_mae: 2.5901\n",
      "Epoch 47/100\n",
      "404/404 [==============================] - 1s 4ms/step - loss: 4.8377 - mae: 1.6269 - val_loss: 15.8499 - val_mae: 2.6411\n",
      "Epoch 48/100\n",
      "404/404 [==============================] - 1s 4ms/step - loss: 4.4324 - mae: 1.5344 - val_loss: 13.8153 - val_mae: 2.7604\n",
      "Epoch 49/100\n",
      "404/404 [==============================] - 1s 3ms/step - loss: 4.1481 - mae: 1.4847 - val_loss: 15.1965 - val_mae: 2.6177\n",
      "Epoch 50/100\n",
      "404/404 [==============================] - 1s 4ms/step - loss: 4.6484 - mae: 1.5893 - val_loss: 12.8996 - val_mae: 2.5119\n",
      "Epoch 51/100\n",
      "404/404 [==============================] - 2s 4ms/step - loss: 4.2915 - mae: 1.5315 - val_loss: 12.5159 - val_mae: 2.4233\n",
      "Epoch 52/100\n",
      "404/404 [==============================] - 1s 4ms/step - loss: 4.0035 - mae: 1.4744 - val_loss: 15.5509 - val_mae: 2.9108\n",
      "Epoch 53/100\n",
      "404/404 [==============================] - 1s 4ms/step - loss: 4.1356 - mae: 1.4584 - val_loss: 12.6645 - val_mae: 2.4942\n",
      "Epoch 54/100\n",
      "404/404 [==============================] - 2s 4ms/step - loss: 3.8253 - mae: 1.4621 - val_loss: 11.7238 - val_mae: 2.3107\n",
      "Epoch 55/100\n",
      "404/404 [==============================] - 1s 3ms/step - loss: 3.7375 - mae: 1.4423 - val_loss: 13.8461 - val_mae: 2.6327\n",
      "Epoch 56/100\n",
      "404/404 [==============================] - 1s 3ms/step - loss: 4.0535 - mae: 1.5009 - val_loss: 13.5043 - val_mae: 2.5975\n",
      "Epoch 57/100\n",
      "404/404 [==============================] - 1s 3ms/step - loss: 4.0685 - mae: 1.4590 - val_loss: 13.5944 - val_mae: 2.6645\n",
      "Epoch 58/100\n",
      "404/404 [==============================] - 1s 3ms/step - loss: 3.7886 - mae: 1.4266 - val_loss: 13.7524 - val_mae: 2.4300\n",
      "Epoch 59/100\n",
      "404/404 [==============================] - 1s 3ms/step - loss: 3.4398 - mae: 1.4013 - val_loss: 18.0176 - val_mae: 2.9576\n",
      "Epoch 60/100\n",
      "404/404 [==============================] - 1s 3ms/step - loss: 3.6892 - mae: 1.4448 - val_loss: 14.2850 - val_mae: 2.5800\n",
      "Epoch 61/100\n",
      "404/404 [==============================] - 1s 3ms/step - loss: 4.1863 - mae: 1.5486 - val_loss: 14.4280 - val_mae: 2.9189\n",
      "Epoch 62/100\n",
      "404/404 [==============================] - 1s 3ms/step - loss: 3.7516 - mae: 1.4461 - val_loss: 12.0113 - val_mae: 2.3240\n",
      "Epoch 63/100\n",
      "404/404 [==============================] - 1s 3ms/step - loss: 3.2248 - mae: 1.3531 - val_loss: 13.1952 - val_mae: 2.4751\n",
      "Epoch 64/100\n",
      "404/404 [==============================] - 1s 3ms/step - loss: 4.0637 - mae: 1.4581 - val_loss: 14.8933 - val_mae: 2.5242\n",
      "Epoch 65/100\n",
      "404/404 [==============================] - 1s 3ms/step - loss: 3.4849 - mae: 1.3818 - val_loss: 13.4562 - val_mae: 2.5307\n",
      "Epoch 66/100\n",
      "404/404 [==============================] - 1s 3ms/step - loss: 3.5700 - mae: 1.3794 - val_loss: 14.3673 - val_mae: 2.5768\n",
      "Epoch 67/100\n",
      "404/404 [==============================] - 1s 3ms/step - loss: 3.3741 - mae: 1.3938 - val_loss: 11.3029 - val_mae: 2.3132\n",
      "Epoch 68/100\n",
      "404/404 [==============================] - 1s 3ms/step - loss: 3.1928 - mae: 1.3457 - val_loss: 11.0369 - val_mae: 2.3980\n",
      "Epoch 69/100\n",
      "404/404 [==============================] - 1s 3ms/step - loss: 3.4046 - mae: 1.3414 - val_loss: 12.0332 - val_mae: 2.4100\n",
      "Epoch 70/100\n",
      "404/404 [==============================] - 1s 3ms/step - loss: 3.8200 - mae: 1.4636 - val_loss: 11.9508 - val_mae: 2.4870\n",
      "Epoch 71/100\n",
      "404/404 [==============================] - 1s 3ms/step - loss: 3.2635 - mae: 1.3227 - val_loss: 10.8492 - val_mae: 2.2175\n",
      "Epoch 72/100\n",
      "404/404 [==============================] - 1s 3ms/step - loss: 2.9491 - mae: 1.3006 - val_loss: 11.0585 - val_mae: 2.1830\n",
      "Epoch 73/100\n",
      "404/404 [==============================] - 1s 3ms/step - loss: 3.2305 - mae: 1.3503 - val_loss: 9.9415 - val_mae: 2.2328\n",
      "Epoch 74/100\n",
      "404/404 [==============================] - 1s 3ms/step - loss: 3.0743 - mae: 1.3331 - val_loss: 15.0842 - val_mae: 2.6940\n",
      "Epoch 75/100\n",
      "404/404 [==============================] - 1s 3ms/step - loss: 3.1426 - mae: 1.3475 - val_loss: 12.6776 - val_mae: 2.5467\n",
      "Epoch 76/100\n",
      "404/404 [==============================] - 1s 3ms/step - loss: 2.7601 - mae: 1.2388 - val_loss: 10.8911 - val_mae: 2.2045\n",
      "Epoch 77/100\n",
      "404/404 [==============================] - 1s 3ms/step - loss: 2.8917 - mae: 1.2826 - val_loss: 14.3643 - val_mae: 2.5852\n",
      "Epoch 78/100\n",
      "404/404 [==============================] - 1s 3ms/step - loss: 2.9563 - mae: 1.2775 - val_loss: 12.7265 - val_mae: 2.3550\n",
      "Epoch 79/100\n",
      "404/404 [==============================] - 1s 3ms/step - loss: 3.3396 - mae: 1.3650 - val_loss: 12.9275 - val_mae: 2.7518\n",
      "Epoch 80/100\n",
      "404/404 [==============================] - 1s 3ms/step - loss: 2.7508 - mae: 1.2768 - val_loss: 15.2455 - val_mae: 2.5545\n",
      "Epoch 81/100\n",
      "404/404 [==============================] - 1s 3ms/step - loss: 3.0793 - mae: 1.3069 - val_loss: 16.1684 - val_mae: 3.0540\n",
      "Epoch 82/100\n",
      "404/404 [==============================] - 1s 3ms/step - loss: 2.9245 - mae: 1.2702 - val_loss: 14.1770 - val_mae: 2.8028\n",
      "Epoch 83/100\n",
      "404/404 [==============================] - 2s 4ms/step - loss: 3.1053 - mae: 1.3101 - val_loss: 10.8516 - val_mae: 2.2862\n",
      "Epoch 84/100\n",
      "404/404 [==============================] - 1s 3ms/step - loss: 2.8917 - mae: 1.2782 - val_loss: 11.4476 - val_mae: 2.4433\n",
      "Epoch 85/100\n",
      "404/404 [==============================] - 1s 3ms/step - loss: 2.5050 - mae: 1.1527 - val_loss: 13.3426 - val_mae: 2.7073\n",
      "Epoch 86/100\n",
      "404/404 [==============================] - 1s 3ms/step - loss: 2.4702 - mae: 1.1664 - val_loss: 11.5292 - val_mae: 2.4112\n",
      "Epoch 87/100\n",
      "404/404 [==============================] - 1s 4ms/step - loss: 3.2000 - mae: 1.3137 - val_loss: 11.7541 - val_mae: 2.2794\n",
      "Epoch 88/100\n",
      "404/404 [==============================] - 1s 4ms/step - loss: 2.5642 - mae: 1.1963 - val_loss: 13.8394 - val_mae: 2.6074\n",
      "Epoch 89/100\n",
      "404/404 [==============================] - 1s 3ms/step - loss: 2.4702 - mae: 1.2140 - val_loss: 12.1997 - val_mae: 2.3631\n",
      "Epoch 90/100\n",
      "404/404 [==============================] - 1s 3ms/step - loss: 2.7647 - mae: 1.2316 - val_loss: 10.6769 - val_mae: 2.2818\n",
      "Epoch 91/100\n",
      "404/404 [==============================] - 1s 4ms/step - loss: 2.8678 - mae: 1.2718 - val_loss: 12.1871 - val_mae: 2.5665\n",
      "Epoch 92/100\n",
      "404/404 [==============================] - 1s 4ms/step - loss: 2.3396 - mae: 1.1772 - val_loss: 12.0574 - val_mae: 2.5482\n",
      "Epoch 93/100\n",
      "404/404 [==============================] - 1s 4ms/step - loss: 2.6917 - mae: 1.1882 - val_loss: 10.8801 - val_mae: 2.2597\n",
      "Epoch 94/100\n",
      "404/404 [==============================] - 1s 4ms/step - loss: 2.5626 - mae: 1.1943 - val_loss: 11.8660 - val_mae: 2.4077\n",
      "Epoch 95/100\n",
      "404/404 [==============================] - 1s 3ms/step - loss: 2.2788 - mae: 1.1350 - val_loss: 11.9860 - val_mae: 2.4079\n",
      "Epoch 96/100\n",
      "404/404 [==============================] - 1s 4ms/step - loss: 2.4279 - mae: 1.1649 - val_loss: 11.9072 - val_mae: 2.2706\n",
      "Epoch 97/100\n",
      "404/404 [==============================] - 1s 4ms/step - loss: 2.4796 - mae: 1.1808 - val_loss: 11.9737 - val_mae: 2.1698\n",
      "Epoch 98/100\n",
      "404/404 [==============================] - 1s 3ms/step - loss: 2.6715 - mae: 1.2224 - val_loss: 12.5632 - val_mae: 2.6799\n",
      "Epoch 99/100\n",
      "404/404 [==============================] - 1s 3ms/step - loss: 2.3401 - mae: 1.1574 - val_loss: 12.2959 - val_mae: 2.2872\n",
      "Epoch 100/100\n",
      "404/404 [==============================] - 1s 3ms/step - loss: 1.8866 - mae: 1.0133 - val_loss: 12.6032 - val_mae: 2.4242\n"
     ]
    },
    {
     "data": {
      "text/plain": [
       "<keras.callbacks.History at 0x18c020a4880>"
      ]
     },
     "execution_count": 15,
     "metadata": {},
     "output_type": "execute_result"
    }
   ],
   "source": [
    "model.fit(x_train, y_train, epochs=100, batch_size=1, verbose=1,validation_data=(x_test, y_test))"
   ]
  },
  {
   "cell_type": "code",
   "execution_count": 16,
   "metadata": {},
   "outputs": [
    {
     "data": {
      "text/plain": [
       "array([-0.39557387,  0.34710909, -1.11613751, -0.28322059, -0.93278608,\n",
       "        2.2638889 , -0.13413192,  0.38925816, -0.47396552, -1.12442161,\n",
       "       -1.56445081,  0.31064669, -1.21845308])"
      ]
     },
     "execution_count": 16,
     "metadata": {},
     "output_type": "execute_result"
    }
   ],
   "source": [
    "x_test[8]"
   ]
  },
  {
   "cell_type": "code",
   "execution_count": 17,
   "metadata": {},
   "outputs": [
    {
     "name": "stdout",
     "output_type": "stream",
     "text": [
      "Actual Output : 45.4\n",
      "1/1 [==============================] - 0s 225ms/step\n",
      "Predicted Output : [[23.559141]]\n"
     ]
    }
   ],
   "source": [
    "test_input=[[-0.42101827, -0.50156705, -1.13081973, -0.25683275, -0.55572682,\n",
    "0.19758953, 0.20684755, -0.34272202, -0.87422469, -0.84336666,\n",
    "-0.32505625, 0.41244772, -0.63500406]]\n",
    "print(\"Actual Output :\",y_test[8])\n",
    "print(\"Predicted Output :\",model.predict(test_input))"
   ]
  },
  {
   "cell_type": "code",
   "execution_count": 18,
   "metadata": {},
   "outputs": [
    {
     "name": "stdout",
     "output_type": "stream",
     "text": [
      "4/4 [==============================] - 0s 5ms/step - loss: 12.6032 - mae: 2.4242\n",
      "Mean squared error on test data : 12.603248596191406\n",
      "Mean absolute error on test data : 2.4241552352905273\n",
      "4/4 [==============================] - 0s 4ms/step\n",
      "R2 Score : 0.8503656083931952\n"
     ]
    }
   ],
   "source": [
    "mse_nn,mae_nn=model.evaluate(x_test,y_test)\n",
    "print('Mean squared error on test data :',mse_nn)\n",
    "print('Mean absolute error on test data :',mae_nn)\n",
    "from sklearn.metrics import r2_score\n",
    "y_dl=model.predict(x_test)\n",
    "r2=r2_score(y_test,y_dl)\n",
    "print('R2 Score :',r2)"
   ]
  },
  {
   "cell_type": "code",
   "execution_count": null,
   "metadata": {},
   "outputs": [],
   "source": []
  }
 ],
 "metadata": {
  "kernelspec": {
   "display_name": "Python 3",
   "language": "python",
   "name": "python3"
  },
  "language_info": {
   "codemirror_mode": {
    "name": "ipython",
    "version": 3
   },
   "file_extension": ".py",
   "mimetype": "text/x-python",
   "name": "python",
   "nbconvert_exporter": "python",
   "pygments_lexer": "ipython3",
   "version": "3.8.5"
  }
 },
 "nbformat": 4,
 "nbformat_minor": 4
}
